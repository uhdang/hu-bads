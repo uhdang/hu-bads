{
  "nbformat": 4,
  "nbformat_minor": 0,
  "metadata": {
    "kernelspec": {
      "display_name": "PyCharm (adams)",
      "language": "python",
      "name": "pycharm-feb95198"
    },
    "language_info": {
      "codemirror_mode": {
        "name": "ipython",
        "version": 3
      },
      "file_extension": ".py",
      "mimetype": "text/x-python",
      "name": "python",
      "nbconvert_exporter": "python",
      "pygments_lexer": "ipython3",
      "version": "3.7.6"
    },
    "colab": {
      "name": "1_ex_python_solution.ipynb",
      "provenance": [],
      "collapsed_sections": []
    }
  },
  "cells": [
    {
      "cell_type": "markdown",
      "metadata": {
        "id": "02pR6DeQTEiU"
      },
      "source": [
        "[![Open In Colab](https://colab.research.google.com/assets/colab-badge.svg)](https://colab.research.google.com/github/Humboldt-WI/bads/blob/master/exercises/1_ex_python.ipynb) "
      ]
    },
    {
      "cell_type": "markdown",
      "metadata": {
        "id": "tybuYD0FTEiZ"
      },
      "source": [
        "# Exercises on Python programming\n",
        "We covered a lot of concepts in the first [tutorial on Python programming](https://github.com/Humboldt-WI/bads/blob/master/tutorials/1_nb_python_intro.ipynb). Solving the exercises allows you to test your familiarity with these concepts.  "
      ]
    },
    {
      "cell_type": "markdown",
      "metadata": {
        "id": "1VMIYxxHTEih"
      },
      "source": [
        "## Variables, assignments, and comparisons"
      ]
    },
    {
      "cell_type": "markdown",
      "metadata": {
        "id": "ZjSnNHKFTEij"
      },
      "source": [
        "1. Create two variables $a$ and $b$ and assign values of $3$ and $4.5$."
      ]
    },
    {
      "cell_type": "code",
      "metadata": {
        "id": "6hk2fOV6TEil"
      },
      "source": [
        "a = 3\n",
        "b = 4.5"
      ],
      "execution_count": 1,
      "outputs": []
    },
    {
      "cell_type": "markdown",
      "metadata": {
        "id": "EPkKCp9-TEl_"
      },
      "source": [
        "2. Query the type of variable $a$."
      ]
    },
    {
      "cell_type": "code",
      "metadata": {
        "id": "K3UAU_NBTEmI",
        "outputId": "041e3a08-fcc8-4786-8a3a-3b90995d95ed",
        "colab": {
          "base_uri": "https://localhost:8080/"
        }
      },
      "source": [
        "type(a)"
      ],
      "execution_count": 2,
      "outputs": [
        {
          "output_type": "execute_result",
          "data": {
            "text/plain": [
              "int"
            ]
          },
          "metadata": {
            "tags": []
          },
          "execution_count": 2
        }
      ]
    },
    {
      "cell_type": "markdown",
      "metadata": {
        "id": "nMZ-YVaZTEmZ"
      },
      "source": [
        "3. Check whether variable $b$ is a text variable (of class character)."
      ]
    },
    {
      "cell_type": "code",
      "metadata": {
        "id": "Qh2IoZj7TEmb",
        "outputId": "e528dbd4-14ad-4573-9024-f9b7c3acbb85",
        "colab": {
          "base_uri": "https://localhost:8080/"
        }
      },
      "source": [
        "type(b) == str"
      ],
      "execution_count": 3,
      "outputs": [
        {
          "output_type": "execute_result",
          "data": {
            "text/plain": [
              "False"
            ]
          },
          "metadata": {
            "tags": []
          },
          "execution_count": 3
        }
      ]
    },
    {
      "cell_type": "markdown",
      "metadata": {
        "id": "6VUPMTKBTEmk"
      },
      "source": [
        "4. Calculate $a^2 + \\frac{1}{b}$, $\\sqrt{a*b}$, and $log_2(a)$."
      ]
    },
    {
      "cell_type": "code",
      "metadata": {
        "id": "wCK0uv10TEmn",
        "outputId": "f2041db2-7741-4146-d492-91cdf53f487d",
        "colab": {
          "base_uri": "https://localhost:8080/"
        }
      },
      "source": [
        "a ** 2 + 1/b"
      ],
      "execution_count": 4,
      "outputs": [
        {
          "output_type": "execute_result",
          "data": {
            "text/plain": [
              "9.222222222222221"
            ]
          },
          "metadata": {
            "tags": []
          },
          "execution_count": 4
        }
      ]
    },
    {
      "cell_type": "code",
      "metadata": {
        "id": "dntijZKBUPMu",
        "outputId": "f21e29bf-0ee8-42b0-feeb-888a21a77ef5",
        "colab": {
          "base_uri": "https://localhost:8080/"
        }
      },
      "source": [
        "import numpy as np\n",
        "np.sqrt(a * b)\n",
        "\n",
        "# we import numpy to use numpy.sqrt() function\n",
        "# can alternatively be computed using (a * b) ** (1/2)"
      ],
      "execution_count": 5,
      "outputs": [
        {
          "output_type": "execute_result",
          "data": {
            "text/plain": [
              "3.6742346141747673"
            ]
          },
          "metadata": {
            "tags": []
          },
          "execution_count": 5
        }
      ]
    },
    {
      "cell_type": "code",
      "metadata": {
        "id": "pyGMZGTNUTIx",
        "outputId": "1650d8d9-beed-4349-e143-841d0f388e7f",
        "colab": {
          "base_uri": "https://localhost:8080/"
        }
      },
      "source": [
        "np.log2(a)"
      ],
      "execution_count": 6,
      "outputs": [
        {
          "output_type": "execute_result",
          "data": {
            "text/plain": [
              "1.584962500721156"
            ]
          },
          "metadata": {
            "tags": []
          },
          "execution_count": 6
        }
      ]
    },
    {
      "cell_type": "markdown",
      "metadata": {
        "id": "-E2g552hTEm1"
      },
      "source": [
        "## Matrix algebra\n",
        "Create three additional variables as follows:\n",
        "\n",
        " $$ A = \\left( \\begin{matrix} 1 & 2 & 3 \\\\ 4 & 5 & 6 \\\\ 7 & 8 & 10 \\end{matrix} \\right) \\quad\n",
        "  B = \\left( \\begin{matrix} 1 & 4 & 7 \\\\ 2 & 5 & 8 \\\\ 3 & 6 & 9 \\end{matrix} \\right)  \\quad\n",
        "  y = \\left( \\begin{matrix} 1 \\\\ 2 \\\\ 3 \\end{matrix} \\right) $$\n",
        "\n",
        "Perform the following operations. Note that mathematical operators like `*` might not behave in the way you need it. Wasn't there a powerful library for all sorts of numerical computations including classic linear algebra?\n",
        "\n",
        "Calculate  \n",
        "\n",
        "  1. $a*A$"
      ]
    },
    {
      "cell_type": "code",
      "metadata": {
        "id": "tuBhQZZXTEnL",
        "outputId": "f6893ccd-a48d-4676-d6a6-584bbd676d0d",
        "colab": {
          "base_uri": "https://localhost:8080/"
        }
      },
      "source": [
        "A = np.array(([1, 2, 3], \n",
        "              [4, 5, 6], \n",
        "              [7, 8, 10]))\n",
        "a * A\n",
        "\n",
        "# when multiplying matrix by a scalar, we can use the operator * to perform element-wise multiplication"
      ],
      "execution_count": 7,
      "outputs": [
        {
          "output_type": "execute_result",
          "data": {
            "text/plain": [
              "array([[ 3,  6,  9],\n",
              "       [12, 15, 18],\n",
              "       [21, 24, 30]])"
            ]
          },
          "metadata": {
            "tags": []
          },
          "execution_count": 7
        }
      ]
    },
    {
      "cell_type": "markdown",
      "metadata": {
        "id": "vTJPwT_MTEnQ"
      },
      "source": [
        "  2. $A*B$"
      ]
    },
    {
      "cell_type": "code",
      "metadata": {
        "id": "JSvGRJNBTEnQ",
        "outputId": "fdf92f16-1297-4dee-d69f-9ea3de3c4877",
        "colab": {
          "base_uri": "https://localhost:8080/"
        }
      },
      "source": [
        "B = np.array(([1, 4, 7], \n",
        "              [2, 5, 8], \n",
        "              [3, 6, 9]))\n",
        "np.matmul(A, B)\n",
        "\n",
        "# matrix multiplication is performed using numpy.matmul()"
      ],
      "execution_count": 8,
      "outputs": [
        {
          "output_type": "execute_result",
          "data": {
            "text/plain": [
              "array([[ 14,  32,  50],\n",
              "       [ 32,  77, 122],\n",
              "       [ 53, 128, 203]])"
            ]
          },
          "metadata": {
            "tags": []
          },
          "execution_count": 8
        }
      ]
    },
    {
      "cell_type": "markdown",
      "metadata": {
        "id": "QP3V_w_RTEnX"
      },
      "source": [
        "  3. The inverse of matrix $A$ and store the result in a variable $invA$. Any ideas how to get Python to invert a matrix? Hint: NumPy is your friend.  "
      ]
    },
    {
      "cell_type": "code",
      "metadata": {
        "id": "UWf37fEkTEnY",
        "outputId": "8939c765-1dd6-46c1-f58c-69acc6f4043c",
        "colab": {
          "base_uri": "https://localhost:8080/"
        }
      },
      "source": [
        "invA = np.linalg.inv(A)\n",
        "invA"
      ],
      "execution_count": 9,
      "outputs": [
        {
          "output_type": "execute_result",
          "data": {
            "text/plain": [
              "array([[-0.66666667, -1.33333333,  1.        ],\n",
              "       [-0.66666667,  3.66666667, -2.        ],\n",
              "       [ 1.        , -2.        ,  1.        ]])"
            ]
          },
          "metadata": {
            "tags": []
          },
          "execution_count": 9
        }
      ]
    },
    {
      "cell_type": "markdown",
      "metadata": {
        "id": "E-rIT_DfTEna"
      },
      "source": [
        "  4. Multiply $A$ and $invA$ and verify that the result is the identity matrix (i.e. only 1s on the diagonal). You'll probably find that it isn't, because computers usually make very small rounding error when handling real numbers. The reason is interesting, but you'll have to look it up if you're interested."
      ]
    },
    {
      "cell_type": "code",
      "metadata": {
        "id": "NROKiO3GTEnc",
        "outputId": "6be6509e-ac1c-47da-dd05-cb9a15582b61",
        "colab": {
          "base_uri": "https://localhost:8080/"
        }
      },
      "source": [
        "res = np.matmul(A, invA)\n",
        "res\n",
        "\n",
        "# as you can see below, some matrix elements are not exactly zero"
      ],
      "execution_count": 10,
      "outputs": [
        {
          "output_type": "execute_result",
          "data": {
            "text/plain": [
              "array([[1.00000000e+00, 0.00000000e+00, 1.11022302e-16],\n",
              "       [0.00000000e+00, 1.00000000e+00, 2.22044605e-16],\n",
              "       [8.88178420e-16, 0.00000000e+00, 1.00000000e+00]])"
            ]
          },
          "metadata": {
            "tags": []
          },
          "execution_count": 10
        }
      ]
    },
    {
      "cell_type": "code",
      "metadata": {
        "id": "3-Tz_EPRWDa3",
        "outputId": "943dde8f-5c34-43ca-fd5d-0ba37aa3a7a7",
        "colab": {
          "base_uri": "https://localhost:8080/"
        }
      },
      "source": [
        "(res == np.eye(3)).all()\n",
        "\n",
        "# res == np.eye(3) checks if values in two arrays are equal element-wise\n",
        "# .all() is used to check if condition holds across all array elements"
      ],
      "execution_count": 11,
      "outputs": [
        {
          "output_type": "execute_result",
          "data": {
            "text/plain": [
              "False"
            ]
          },
          "metadata": {
            "tags": []
          },
          "execution_count": 11
        }
      ]
    },
    {
      "cell_type": "markdown",
      "metadata": {
        "id": "X7BfTcwJTEne"
      },
      "source": [
        "  5. The transpose of matrix $B$"
      ]
    },
    {
      "cell_type": "code",
      "metadata": {
        "id": "ULF63aEnTEnf",
        "outputId": "06442497-e772-4312-a1d3-ccdc47d203e3",
        "colab": {
          "base_uri": "https://localhost:8080/"
        }
      },
      "source": [
        "np.transpose(B)"
      ],
      "execution_count": 12,
      "outputs": [
        {
          "output_type": "execute_result",
          "data": {
            "text/plain": [
              "array([[1, 2, 3],\n",
              "       [4, 5, 6],\n",
              "       [7, 8, 9]])"
            ]
          },
          "metadata": {
            "tags": []
          },
          "execution_count": 12
        }
      ]
    },
    {
      "cell_type": "markdown",
      "metadata": {
        "id": "Uan9gCNSTEni"
      },
      "source": [
        "  6. Fill the first row of matrix $B$ with ones"
      ]
    },
    {
      "cell_type": "code",
      "metadata": {
        "id": "H9TkTfriTEni",
        "outputId": "66d32437-1e6f-4d75-edd5-f31d9eab4077",
        "colab": {
          "base_uri": "https://localhost:8080/"
        }
      },
      "source": [
        "B[0,:] = np.ones(3)\n",
        "B"
      ],
      "execution_count": 13,
      "outputs": [
        {
          "output_type": "execute_result",
          "data": {
            "text/plain": [
              "array([[1, 1, 1],\n",
              "       [2, 5, 8],\n",
              "       [3, 6, 9]])"
            ]
          },
          "metadata": {
            "tags": []
          },
          "execution_count": 13
        }
      ]
    },
    {
      "cell_type": "markdown",
      "metadata": {
        "id": "Fh6RtR8UTEnk"
      },
      "source": [
        "  7. Calculate the ordinary least squares estimator $\\beta$ (i.e. a standard regression) \n",
        "$$ \\beta = (A^{\\top}A)^{-1}A^{\\top} y $$ Run a web search for \"Python matrix transpose\" to get help on how to transpose a matrix. "
      ]
    },
    {
      "cell_type": "code",
      "metadata": {
        "id": "SNGAlDQ4TEnl",
        "outputId": "edf9f0ec-36a1-491b-edc8-4f2174121735",
        "colab": {
          "base_uri": "https://localhost:8080/"
        }
      },
      "source": [
        "y = np.transpose(np.array([1, 2, 3]))\n",
        "\n",
        "# let's split our equation into two terms and compute beta step by step\n",
        "\n",
        "term1 = np.linalg.inv(np.matmul(np.transpose(A), A))\n",
        "term2 = np.matmul(np.transpose(A), y)\n",
        "beta  = np.matmul(term1, term2)\n",
        "beta"
      ],
      "execution_count": 14,
      "outputs": [
        {
          "output_type": "execute_result",
          "data": {
            "text/plain": [
              "array([-3.33333333e-01,  6.66666667e-01, -5.68434189e-14])"
            ]
          },
          "metadata": {
            "tags": []
          },
          "execution_count": 14
        }
      ]
    },
    {
      "cell_type": "markdown",
      "metadata": {
        "id": "yyXppdyITEnp"
      },
      "source": [
        "## Indexing\n",
        "1. Look at values of variables $A$, $B$, and $y$ from the last exercise"
      ]
    },
    {
      "cell_type": "code",
      "metadata": {
        "id": "0Atk_7P_TEnp",
        "outputId": "a6ab2dbe-b000-4967-8e3a-257dc3569836",
        "colab": {
          "base_uri": "https://localhost:8080/"
        }
      },
      "source": [
        "print(A)\n",
        "print('')\n",
        "print(B)\n",
        "print('')\n",
        "print(y)"
      ],
      "execution_count": 15,
      "outputs": [
        {
          "output_type": "stream",
          "text": [
            "[[ 1  2  3]\n",
            " [ 4  5  6]\n",
            " [ 7  8 10]]\n",
            "\n",
            "[[1 1 1]\n",
            " [2 5 8]\n",
            " [3 6 9]]\n",
            "\n",
            "[1 2 3]\n"
          ],
          "name": "stdout"
        }
      ]
    },
    {
      "cell_type": "markdown",
      "metadata": {
        "id": "wieaydQRTEns"
      },
      "source": [
        "2. Access the second element in the third row of $A$ and the first element in the second row of $B$, and compute their product"
      ]
    },
    {
      "cell_type": "code",
      "metadata": {
        "id": "R6oLJ0-KTEnx",
        "outputId": "a1e0252e-c044-47ce-de7c-50b11dc82fde",
        "colab": {
          "base_uri": "https://localhost:8080/"
        }
      },
      "source": [
        "A[2, 1] * B[1, 0]\n",
        "\n",
        "# remember that numbering in Python starts at 0"
      ],
      "execution_count": 16,
      "outputs": [
        {
          "output_type": "execute_result",
          "data": {
            "text/plain": [
              "16"
            ]
          },
          "metadata": {
            "tags": []
          },
          "execution_count": 16
        }
      ]
    },
    {
      "cell_type": "markdown",
      "metadata": {
        "id": "ueDJucJVTEny"
      },
      "source": [
        "3. Multiply the first row of $A$ and the third column of $B$"
      ]
    },
    {
      "cell_type": "code",
      "metadata": {
        "id": "4hFhHI4YTEn2",
        "outputId": "41060e68-343c-435c-819d-9711486ceb22",
        "colab": {
          "base_uri": "https://localhost:8080/"
        }
      },
      "source": [
        "np.matmul(A[0, :], B[:, 2])"
      ],
      "execution_count": 17,
      "outputs": [
        {
          "output_type": "execute_result",
          "data": {
            "text/plain": [
              "44"
            ]
          },
          "metadata": {
            "tags": []
          },
          "execution_count": 17
        }
      ]
    },
    {
      "cell_type": "markdown",
      "metadata": {
        "id": "3UBYGNDfTEn5"
      },
      "source": [
        "4. Access the elements of y that are greater than 1 (without looking up their position manually)"
      ]
    },
    {
      "cell_type": "code",
      "metadata": {
        "id": "cXqJA9zRTEn5",
        "outputId": "e9ffac82-415a-4b07-f31c-a621c2eddcc8",
        "colab": {
          "base_uri": "https://localhost:8080/"
        }
      },
      "source": [
        "y[y > 1]"
      ],
      "execution_count": 18,
      "outputs": [
        {
          "output_type": "execute_result",
          "data": {
            "text/plain": [
              "array([2, 3])"
            ]
          },
          "metadata": {
            "tags": []
          },
          "execution_count": 18
        }
      ]
    },
    {
      "cell_type": "markdown",
      "metadata": {
        "id": "KxwNeZMfTEn7"
      },
      "source": [
        "5. Access the elements of A in the second column, for which the values in the first column are greater or equal to 4)"
      ]
    },
    {
      "cell_type": "code",
      "metadata": {
        "id": "z9f1q6fNTEn8",
        "outputId": "57475f08-8a61-469b-c0ac-831e2e0d7006",
        "colab": {
          "base_uri": "https://localhost:8080/"
        }
      },
      "source": [
        "# it is easier to first save the second column as a separate variable and then index it\n",
        "\n",
        "second_column = A[:, 1]\n",
        "second_column[second_column >= 4]"
      ],
      "execution_count": 19,
      "outputs": [
        {
          "output_type": "execute_result",
          "data": {
            "text/plain": [
              "array([5, 8])"
            ]
          },
          "metadata": {
            "tags": []
          },
          "execution_count": 19
        }
      ]
    },
    {
      "cell_type": "markdown",
      "metadata": {
        "id": "E9CIYD4jTEn9"
      },
      "source": [
        "6. Access the 4th row of A. If this returns an error message, use Google to investigate the problem and find out what went wrong."
      ]
    },
    {
      "cell_type": "code",
      "metadata": {
        "id": "PEoYMCIBTEn-",
        "outputId": "1eab962a-aa8c-4dc1-cba6-3ae632a5a99b",
        "colab": {
          "base_uri": "https://localhost:8080/",
          "height": 215
        }
      },
      "source": [
        "A[3, :]\n",
        "\n",
        "# IndexError pops up when trying to access index that is outside of the array dimensions\n",
        "# in our case, A only has three rows, so trying to access the 4th row results in an error"
      ],
      "execution_count": 20,
      "outputs": [
        {
          "output_type": "error",
          "ename": "IndexError",
          "evalue": "ignored",
          "traceback": [
            "\u001b[0;31m---------------------------------------------------------------------------\u001b[0m",
            "\u001b[0;31mIndexError\u001b[0m                                Traceback (most recent call last)",
            "\u001b[0;32m<ipython-input-20-e891f72a6bf7>\u001b[0m in \u001b[0;36m<module>\u001b[0;34m()\u001b[0m\n\u001b[0;32m----> 1\u001b[0;31m \u001b[0mA\u001b[0m\u001b[0;34m[\u001b[0m\u001b[0;36m3\u001b[0m\u001b[0;34m,\u001b[0m \u001b[0;34m:\u001b[0m\u001b[0;34m]\u001b[0m\u001b[0;34m\u001b[0m\u001b[0;34m\u001b[0m\u001b[0m\n\u001b[0m\u001b[1;32m      2\u001b[0m \u001b[0;34m\u001b[0m\u001b[0m\n\u001b[1;32m      3\u001b[0m \u001b[0;31m# IndexError pops up when trying to access index that is outside of the array dimensions\u001b[0m\u001b[0;34m\u001b[0m\u001b[0;34m\u001b[0m\u001b[0;34m\u001b[0m\u001b[0m\n\u001b[1;32m      4\u001b[0m \u001b[0;31m# in our case, A only has three rows, so trying to access the 4th row results in an error\u001b[0m\u001b[0;34m\u001b[0m\u001b[0;34m\u001b[0m\u001b[0;34m\u001b[0m\u001b[0m\n",
            "\u001b[0;31mIndexError\u001b[0m: index 3 is out of bounds for axis 0 with size 3"
          ]
        }
      ]
    },
    {
      "cell_type": "markdown",
      "metadata": {
        "id": "IHaAD_kJTEoA"
      },
      "source": [
        "## Custom functions\n",
        "For many statistical applications it is practical to standardize variable values. One way to standardize is *centering and scaling*. In simple words, we make the variables comparable by reducing them to the same scale.\n",
        "\n",
        "Start with implementing a custom function. Your function should take an argument **x**. To keep things simple, we expect x to always be a numeric vector (and not text or a matrix, for example). In the body of the function, calculate the mean and standard deviation of **x**. Store the results in variables  **mu** and **std**, respectively. Then for each element in the vector, substract the mean and divide by the standard deviation.\n",
        "$$ x_{new} = \\frac{x-\\mu}{std}$$\n",
        "Make sure your functions **returns** the standardized vector (i.e., $x_new$ in the equation) as result. You might want to import `NumPy` for calculating the mean and standard deviation."
      ]
    },
    {
      "cell_type": "code",
      "metadata": {
        "id": "pJ3Ghg3ATEoA"
      },
      "source": [
        "def standardize(x):\n",
        "  '''\n",
        "  Substracts mean and divides by standard deviation\n",
        "\n",
        "  Input: \n",
        "  - x (numeric numpy array)\n",
        "\n",
        "  Output:\n",
        "  - x_new (standardized numeric numpy array)\n",
        "  '''\n",
        "\n",
        "  import numpy as np\n",
        "\n",
        "  mu  = np.mean(x)\n",
        "  std = np.std(x)\n",
        "\n",
        "  x_new = (x - mu) / std\n",
        "\n",
        "  return x_new\n",
        "\n",
        "  # when defining a function, it is always useful to provide a docstring, which is\n",
        "  # a comment snippet in the following format: '''comment'''. It is common practice\n",
        "  # to specify the goal of the function as well as its inputs, outputs and arguments."
      ],
      "execution_count": 21,
      "outputs": []
    },
    {
      "cell_type": "markdown",
      "metadata": {
        "id": "HONICGB2TEoC"
      },
      "source": [
        "You should always test your functions. Create a vector **a** with the elements (-100, -25, -10, 0, 10, 25, 100) and check if your function produces the correct result.     "
      ]
    },
    {
      "cell_type": "code",
      "metadata": {
        "id": "0tHUryPTTEoC",
        "outputId": "c694cfd9-0ace-4125-bc3e-fdfbd1336b88",
        "colab": {
          "base_uri": "https://localhost:8080/"
        }
      },
      "source": [
        "x = np.array([-100, -25, -10, 0, 10, 25, 100])\n",
        "standardize(x)"
      ],
      "execution_count": 22,
      "outputs": [
        {
          "output_type": "execute_result",
          "data": {
            "text/plain": [
              "array([-1.80648921, -0.4516223 , -0.18064892,  0.        ,  0.18064892,\n",
              "        0.4516223 ,  1.80648921])"
            ]
          },
          "metadata": {
            "tags": []
          },
          "execution_count": 22
        }
      ]
    },
    {
      "cell_type": "markdown",
      "metadata": {
        "id": "9wShcjvzTEoD"
      },
      "source": [
        "*Optional*: Create a vector **b** with elements (\"1\", \"2\", \"3\") and check the function. Let's include a simple check in the function and give feedback. Before doing any calculations, use `if()` and `type()` to check if the input is a numeric vector. There are many ways to code the condition *x is numeric* in Python. Run a quick web search and use a simple approach. If the input is not numeric, skip the computations and print a message \"input not numeric\"."
      ]
    },
    {
      "cell_type": "code",
      "metadata": {
        "id": "j6FbmzueTEoD",
        "outputId": "64dd0305-1ca1-4d2c-a179-11c0e83f263b",
        "colab": {
          "base_uri": "https://localhost:8080/",
          "height": 392
        }
      },
      "source": [
        "b = np.array([\"1\", \"2\", \"3\"])\n",
        "standardize(b)\n",
        "\n",
        "# does not work because b is not a numeric array"
      ],
      "execution_count": 23,
      "outputs": [
        {
          "output_type": "error",
          "ename": "TypeError",
          "evalue": "ignored",
          "traceback": [
            "\u001b[0;31m---------------------------------------------------------------------------\u001b[0m",
            "\u001b[0;31mTypeError\u001b[0m                                 Traceback (most recent call last)",
            "\u001b[0;32m<ipython-input-23-528d6971b17a>\u001b[0m in \u001b[0;36m<module>\u001b[0;34m()\u001b[0m\n\u001b[1;32m      1\u001b[0m \u001b[0mb\u001b[0m \u001b[0;34m=\u001b[0m \u001b[0mnp\u001b[0m\u001b[0;34m.\u001b[0m\u001b[0marray\u001b[0m\u001b[0;34m(\u001b[0m\u001b[0;34m[\u001b[0m\u001b[0;34m\"1\"\u001b[0m\u001b[0;34m,\u001b[0m \u001b[0;34m\"2\"\u001b[0m\u001b[0;34m,\u001b[0m \u001b[0;34m\"3\"\u001b[0m\u001b[0;34m]\u001b[0m\u001b[0;34m)\u001b[0m\u001b[0;34m\u001b[0m\u001b[0;34m\u001b[0m\u001b[0m\n\u001b[0;32m----> 2\u001b[0;31m \u001b[0mstandardize\u001b[0m\u001b[0;34m(\u001b[0m\u001b[0mb\u001b[0m\u001b[0;34m)\u001b[0m\u001b[0;34m\u001b[0m\u001b[0;34m\u001b[0m\u001b[0m\n\u001b[0m\u001b[1;32m      3\u001b[0m \u001b[0;34m\u001b[0m\u001b[0m\n\u001b[1;32m      4\u001b[0m \u001b[0;31m# does not work because b is not a numeric array\u001b[0m\u001b[0;34m\u001b[0m\u001b[0;34m\u001b[0m\u001b[0;34m\u001b[0m\u001b[0m\n",
            "\u001b[0;32m<ipython-input-21-f3974d8f43e4>\u001b[0m in \u001b[0;36mstandardize\u001b[0;34m(x)\u001b[0m\n\u001b[1;32m     12\u001b[0m   \u001b[0;32mimport\u001b[0m \u001b[0mnumpy\u001b[0m \u001b[0;32mas\u001b[0m \u001b[0mnp\u001b[0m\u001b[0;34m\u001b[0m\u001b[0;34m\u001b[0m\u001b[0m\n\u001b[1;32m     13\u001b[0m \u001b[0;34m\u001b[0m\u001b[0m\n\u001b[0;32m---> 14\u001b[0;31m   \u001b[0mmu\u001b[0m  \u001b[0;34m=\u001b[0m \u001b[0mnp\u001b[0m\u001b[0;34m.\u001b[0m\u001b[0mmean\u001b[0m\u001b[0;34m(\u001b[0m\u001b[0mx\u001b[0m\u001b[0;34m)\u001b[0m\u001b[0;34m\u001b[0m\u001b[0;34m\u001b[0m\u001b[0m\n\u001b[0m\u001b[1;32m     15\u001b[0m   \u001b[0mstd\u001b[0m \u001b[0;34m=\u001b[0m \u001b[0mnp\u001b[0m\u001b[0;34m.\u001b[0m\u001b[0mstd\u001b[0m\u001b[0;34m(\u001b[0m\u001b[0mx\u001b[0m\u001b[0;34m)\u001b[0m\u001b[0;34m\u001b[0m\u001b[0;34m\u001b[0m\u001b[0m\n\u001b[1;32m     16\u001b[0m \u001b[0;34m\u001b[0m\u001b[0m\n",
            "\u001b[0;32m<__array_function__ internals>\u001b[0m in \u001b[0;36mmean\u001b[0;34m(*args, **kwargs)\u001b[0m\n",
            "\u001b[0;32m/usr/local/lib/python3.6/dist-packages/numpy/core/fromnumeric.py\u001b[0m in \u001b[0;36mmean\u001b[0;34m(a, axis, dtype, out, keepdims)\u001b[0m\n\u001b[1;32m   3333\u001b[0m \u001b[0;34m\u001b[0m\u001b[0m\n\u001b[1;32m   3334\u001b[0m     return _methods._mean(a, axis=axis, dtype=dtype,\n\u001b[0;32m-> 3335\u001b[0;31m                           out=out, **kwargs)\n\u001b[0m\u001b[1;32m   3336\u001b[0m \u001b[0;34m\u001b[0m\u001b[0m\n\u001b[1;32m   3337\u001b[0m \u001b[0;34m\u001b[0m\u001b[0m\n",
            "\u001b[0;32m/usr/local/lib/python3.6/dist-packages/numpy/core/_methods.py\u001b[0m in \u001b[0;36m_mean\u001b[0;34m(a, axis, dtype, out, keepdims)\u001b[0m\n\u001b[1;32m    149\u001b[0m             \u001b[0mis_float16_result\u001b[0m \u001b[0;34m=\u001b[0m \u001b[0;32mTrue\u001b[0m\u001b[0;34m\u001b[0m\u001b[0;34m\u001b[0m\u001b[0m\n\u001b[1;32m    150\u001b[0m \u001b[0;34m\u001b[0m\u001b[0m\n\u001b[0;32m--> 151\u001b[0;31m     \u001b[0mret\u001b[0m \u001b[0;34m=\u001b[0m \u001b[0mumr_sum\u001b[0m\u001b[0;34m(\u001b[0m\u001b[0marr\u001b[0m\u001b[0;34m,\u001b[0m \u001b[0maxis\u001b[0m\u001b[0;34m,\u001b[0m \u001b[0mdtype\u001b[0m\u001b[0;34m,\u001b[0m \u001b[0mout\u001b[0m\u001b[0;34m,\u001b[0m \u001b[0mkeepdims\u001b[0m\u001b[0;34m)\u001b[0m\u001b[0;34m\u001b[0m\u001b[0;34m\u001b[0m\u001b[0m\n\u001b[0m\u001b[1;32m    152\u001b[0m     \u001b[0;32mif\u001b[0m \u001b[0misinstance\u001b[0m\u001b[0;34m(\u001b[0m\u001b[0mret\u001b[0m\u001b[0;34m,\u001b[0m \u001b[0mmu\u001b[0m\u001b[0;34m.\u001b[0m\u001b[0mndarray\u001b[0m\u001b[0;34m)\u001b[0m\u001b[0;34m:\u001b[0m\u001b[0;34m\u001b[0m\u001b[0;34m\u001b[0m\u001b[0m\n\u001b[1;32m    153\u001b[0m         ret = um.true_divide(\n",
            "\u001b[0;31mTypeError\u001b[0m: cannot perform reduce with flexible type"
          ]
        }
      ]
    },
    {
      "cell_type": "code",
      "metadata": {
        "id": "pe1EUX0BZuw9"
      },
      "source": [
        "# when working with numpy arrays, one way to check if input is numeric is to use \n",
        "# np.dtype() to query the array type, and use np.issubdtype() to check if the type\n",
        "# belongs to a parent type (see https://numpy.org/doc/stable/reference/arrays.scalars.html \n",
        "# for hierarchy). In our case, we will check if an array belongs to a type np.number\n",
        "\n",
        "def standardize(x):\n",
        "  '''\n",
        "  Substracts mean and divides by standard deviation\n",
        "\n",
        "  Input: \n",
        "  - x (numeric numpy array)\n",
        "\n",
        "  Output:\n",
        "  - x_new (standardized numeric numpy array)\n",
        "  '''\n",
        "\n",
        "  import numpy as np\n",
        "\n",
        "  # stop execution if array is not numeric\n",
        "  if not np.issubdtype(x.dtype, np.number): \n",
        "      print('Input not numeric. Received array of type:', x.dtype)\n",
        "      return\n",
        "\n",
        "  mu  = np.mean(x)\n",
        "  std = np.std(x)\n",
        "\n",
        "  x_new = (x - mu) / std\n",
        "\n",
        "  return x_new"
      ],
      "execution_count": 24,
      "outputs": []
    },
    {
      "cell_type": "code",
      "metadata": {
        "id": "Kwm1pJQW57HN",
        "outputId": "fa460632-ae33-43ec-cafc-6e571239eb5b",
        "colab": {
          "base_uri": "https://localhost:8080/"
        }
      },
      "source": [
        "# test the new function with numeric input\n",
        "standardize(x)"
      ],
      "execution_count": 25,
      "outputs": [
        {
          "output_type": "execute_result",
          "data": {
            "text/plain": [
              "array([-1.80648921, -0.4516223 , -0.18064892,  0.        ,  0.18064892,\n",
              "        0.4516223 ,  1.80648921])"
            ]
          },
          "metadata": {
            "tags": []
          },
          "execution_count": 25
        }
      ]
    },
    {
      "cell_type": "code",
      "metadata": {
        "id": "CO3cOtVo6I4M",
        "outputId": "608a30f5-4192-4d07-b4ae-a6f466467ac3",
        "colab": {
          "base_uri": "https://localhost:8080/"
        }
      },
      "source": [
        "# test the new function with non-numeric input\n",
        "standardize(b)"
      ],
      "execution_count": 26,
      "outputs": [
        {
          "output_type": "stream",
          "text": [
            "Input not numeric. Received array of type: <U1\n"
          ],
          "name": "stdout"
        }
      ]
    },
    {
      "cell_type": "markdown",
      "metadata": {
        "id": "EWj7TQs7TErR"
      },
      "source": [
        "## Data structures \n",
        "Say you want to keep track of the members of the four houses of the famous Hogwarts School of Witchcraft and Wizardry. What might be a suitable data structure. We create a dictionary named **hogwarts** and use the names of the houses as keys. Then, the values associated with those keys could be any type that supports storing a set of strings, i.e., to store the names of the members. Draw on your knowledge of Python dictionaries and list to implement such a data structure. Populate the dictionary with the following data, and feel free to add more characters if you wish. \n",
        "\n",
        "- Gryffindor: I'm sure you know many members of that house \n",
        "- Hufflepuff: notable members include Newt Scamander, Cedric Diggory and Nymphadora Tonks\n",
        "- Ravenclaw: here we've got, e.g. Luna Lovegood, Gilderoy Lockhart and Filius Flitwick\n",
        "- Slytherin: Draco Malfoy, Vincent Crabbe, Gregory Goyle, and of course the one that must not be named"
      ]
    },
    {
      "cell_type": "code",
      "metadata": {
        "id": "iBxfYKyQTErR",
        "outputId": "c0fafed7-2cb2-4519-de5a-a02ff790525a",
        "colab": {
          "base_uri": "https://localhost:8080/"
        }
      },
      "source": [
        "hogwarts = {'Gryffindor': ['Harry Potter', 'Ron Weasley', 'Hermione Granger'],\n",
        "            'Hufflepuff': ['Newt Scamander', 'Cedric Diggory', 'Nymphadora Tonks'],\n",
        "            'Ravenclaw':  ['Luna Lovegood', 'Gilderoy Lockhart', 'Filius Flitwick'],\n",
        "            'Slytherin':  ['Draco Malfoy', 'Vincent Crabbe', 'Gregory Goyle', 'Tom Riddle']\n",
        "            }\n",
        "hogwarts"
      ],
      "execution_count": 27,
      "outputs": [
        {
          "output_type": "execute_result",
          "data": {
            "text/plain": [
              "{'Gryffindor': ['Harry Potter', 'Ron Weasley', 'Hermione Granger'],\n",
              " 'Hufflepuff': ['Newt Scamander', 'Cedric Diggory', 'Nymphadora Tonks'],\n",
              " 'Ravenclaw': ['Luna Lovegood', 'Gilderoy Lockhart', 'Filius Flitwick'],\n",
              " 'Slytherin': ['Draco Malfoy',\n",
              "  'Vincent Crabbe',\n",
              "  'Gregory Goyle',\n",
              "  'Tom Riddle']}"
            ]
          },
          "metadata": {
            "tags": []
          },
          "execution_count": 27
        }
      ]
    },
    {
      "cell_type": "markdown",
      "metadata": {
        "id": "k1SQmnPuTErT"
      },
      "source": [
        "Dictionaries are really useful. Still our above data structure is limited. We can only store the name of a witch or wizard. Wouldn't it be cool to be able to store more information, something like her/his favored charm, best friend, pet, etc. \n",
        "\n",
        "Think about how we could realize this functionality. Well, we could create yet another dictionary in which we use a witch's/wizard's name as key and as value some some other data structure in which we can store all the details we like. To our knowledge, the names of witches / wizards are unique in the Harry Potter universe, so that names could serve as (unique) keys; nerd alert. Still a dictionary of dictionaries sounds pretty complicated. In fact, the task we described above is a perfect use case of custom classes. They allow us to store any piece of information about a person at one place.\n",
        "\n",
        "Create a custom class wizard that facilitates storing the following properties:\n",
        "- First name\n",
        "- Last name\n",
        "- Pet\n",
        "- Pet name\n",
        "- Patronus shape\n",
        "\n",
        "\n",
        "Also implement a method `tell_pet()`that prints an output of the following format:\n",
        "*\"Harry Potter's owl is called Hedwig.\"* \n",
        "\n",
        "Implement one more  method `expecto_patronum()`. Calling that method for Harry would produce the output (print):\n",
        "*\"A stag appears.\"*"
      ]
    },
    {
      "cell_type": "code",
      "metadata": {
        "id": "p7hAGjRBTErT"
      },
      "source": [
        "class wizard():\n",
        "\n",
        "    '''Custom wizard class that stores relevant wizard information'''\n",
        "\n",
        "    def __init__(self,        \n",
        "                 first_name,             \n",
        "                 last_name,\n",
        "                 pet            = None,\n",
        "                 pet_name       = None,\n",
        "                 patronus_shape = None): # first and last name have to be specifed; pet and patronus data is set to None by default \n",
        "\n",
        "        # assign attributes\n",
        "        self.first_name     = first_name \n",
        "        self.last_name      = last_name \n",
        "        self.pet            = pet \n",
        "        self.pet_name       = pet_name \n",
        "        self.patronus_shape = patronus_shape \n",
        "\n",
        "        \n",
        "    def tell_pet(self): \n",
        "\n",
        "        '''Method for printing the pet information'''\n",
        "\n",
        "        # there are several ways to print the required statement\n",
        "        # one way is to use the so-called f strings; we will use .format() syntax\n",
        "        print('{} {}\\'s {} is called {}.'.format(self.first_name, self.last_name, self.pet, self.pet_name))\n",
        "        return None\n",
        "\n",
        "\n",
        "    def expecto_patronum(self): \n",
        "\n",
        "        '''Method for summoning a patronum'''\n",
        "\n",
        "        print('A {} appears.'.format(self.patronus_shape))\n",
        "        return None"
      ],
      "execution_count": 28,
      "outputs": []
    },
    {
      "cell_type": "markdown",
      "metadata": {
        "id": "Dy-NTReUTErU"
      },
      "source": [
        "Update your dictionary with schools and their members. Instead of storing a list of names as values, your new dictionary should store a list of instances of the class wizard. Note that you need to create these instances first. So you need to create an instance of class wizard for Harry, another one for Ron, Malfoy, etc. In case your knowledge of the Potter universe is a bit shaky, just invent the data you need. Just in case, [here is a ittle refresher of the expecto patronum spell](https://www.insider.com/harry-potter-characters-patronus-2018-11)."
      ]
    },
    {
      "cell_type": "code",
      "metadata": {
        "id": "ekiCLFuDTErU"
      },
      "source": [
        "# creating class instances\n",
        "\n",
        "HarryPotter = wizard(first_name     = 'Harry',\n",
        "                     last_name      = 'Potter',\n",
        "                     pet            = 'owl',\n",
        "                     pet_name       = 'Hedwig',\n",
        "                     patronus_shape = 'stag')\n",
        "\n",
        "RonWeasly = wizard(first_name     = 'Ron',\n",
        "                   last_name      = 'Weasley',\n",
        "                   pet            = 'rat',\n",
        "                   pet_name       = 'Scabbers',\n",
        "                   patronus_shape = 'dog')\n",
        "\n",
        "HermioneGranger = wizard(first_name      = 'Hermione',\n",
        "                         last_name       = 'Granger',\n",
        "                         pet             = 'cat',\n",
        "                         pet_name        = 'Crookshanks',\n",
        "                         patronus_shape  = 'otter')"
      ],
      "execution_count": 29,
      "outputs": []
    },
    {
      "cell_type": "code",
      "metadata": {
        "id": "q1wAjjXsAHNg"
      },
      "source": [
        "# updating Gryffindor members in the dictionary\n",
        "# other houses can be created in the same fashion\n",
        "\n",
        "hogwarts['Gryffindor'] = [HarryPotter, RonWeasly, HermioneGranger]"
      ],
      "execution_count": 30,
      "outputs": []
    },
    {
      "cell_type": "code",
      "metadata": {
        "id": "8hIZmM6h_XMI",
        "outputId": "29db00d3-10da-43c2-9be9-8e9a04b0d2ac",
        "colab": {
          "base_uri": "https://localhost:8080/"
        }
      },
      "source": [
        "# check Harry's pet\n",
        "\n",
        "hogwarts['Gryffindor'][0].tell_pet()"
      ],
      "execution_count": 31,
      "outputs": [
        {
          "output_type": "stream",
          "text": [
            "Harry Potter's owl is called Hedwig.\n"
          ],
          "name": "stdout"
        }
      ]
    },
    {
      "cell_type": "code",
      "metadata": {
        "id": "r1YEr72c_Ysi",
        "outputId": "6095d6c2-360e-4267-f88b-359626170041",
        "colab": {
          "base_uri": "https://localhost:8080/"
        }
      },
      "source": [
        "# check Harry's patronus\n",
        "\n",
        "hogwarts['Gryffindor'][0].expecto_patronum()"
      ],
      "execution_count": 32,
      "outputs": [
        {
          "output_type": "stream",
          "text": [
            "A stag appears.\n"
          ],
          "name": "stdout"
        }
      ]
    },
    {
      "cell_type": "markdown",
      "metadata": {
        "id": "Ie10c9dlTErW"
      },
      "source": [
        "## Well done!!!"
      ]
    }
  ]
}