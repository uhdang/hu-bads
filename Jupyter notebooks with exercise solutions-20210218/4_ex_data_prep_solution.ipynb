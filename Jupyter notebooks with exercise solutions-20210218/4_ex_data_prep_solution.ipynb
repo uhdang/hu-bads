{
  "nbformat": 4,
  "nbformat_minor": 0,
  "metadata": {
    "kernelspec": {
      "display_name": "PyCharm (VHB-ProDok-Internal)",
      "language": "python",
      "name": "pycharm-e3448bea"
    },
    "language_info": {
      "codemirror_mode": {
        "name": "ipython",
        "version": 3
      },
      "file_extension": ".py",
      "mimetype": "text/x-python",
      "name": "python",
      "nbconvert_exporter": "python",
      "pygments_lexer": "ipython3",
      "version": "3.7.6"
    },
    "colab": {
      "name": "4_ex_data_prep_solution.ipynb",
      "provenance": [],
      "collapsed_sections": []
    }
  },
  "cells": [
    {
      "cell_type": "markdown",
      "metadata": {
        "id": "XstQcr6KZbTV"
      },
      "source": [
        "[![Open In Colab](https://colab.research.google.com/assets/colab-badge.svg)](https://colab.research.google.com/github/Humboldt-WI/bads/blob/master/exercises/4_ex_data_prep.ipynb) "
      ]
    },
    {
      "cell_type": "markdown",
      "metadata": {
        "id": "nhjDMKBTZbTV"
      },
      "source": [
        "# BADS Exercise 4 on data preparation\n",
        "This exercise revisits some of the concepts covered in [Tutorial 4 on data preparation](https://github.com/Humboldt-WI/bads/blob/master/tutorials/4_nb_data_preparation.ipynb). That tutorial was rather comprehensive and provided a lot of materials and codes associated with typical tasks in the wide scope of data preparation. Therefore, the exercises will not go beyond [Tutorial 4](https://github.com/Humboldt-WI/bads/blob/master/tutorials/4_nb_data_preparation.ipynb). Rather, we will consider a different data set and repeat some standard data prep. tasks for that data set.   \n",
        "\n",
        "## 1 Loading the data \n",
        "The data set for this tutorial comes from the classic Book Credit Scoring and its Applications by Lyn C. Thomas, David B. Edelman, and Jonathan N. Crook. You can obtain the data, called *loan_data* from our [GitHub repository](https://github.com/Humboldt-WI/bads/tree/master/data). The data folder of the repository also provides a file *loan_data_dictionary*, which offers a brief description of the features in this data set. In a nutshell, the data represents yet another vanilla credit scoring task with a binary target variable, indicating whether bank customers repaid their debt or defaulted, and a few features characterizing credit applicants. Your first task is to load the data into a `Pandas DataFrame`."
      ]
    },
    {
      "cell_type": "code",
      "metadata": {
        "id": "DmbXRVqBiqQd"
      },
      "source": [
        "# Import packages\n",
        "import pandas as pd\n",
        "import numpy as np"
      ],
      "execution_count": null,
      "outputs": []
    },
    {
      "cell_type": "code",
      "metadata": {
        "id": "bgGuosuKZbTV",
        "colab": {
          "base_uri": "https://localhost:8080/",
          "height": 419
        },
        "outputId": "9ccaa320-97d9-4f63-f9a6-f1b65071e0a2"
      },
      "source": [
        "# Load the data directly from GitHub\n",
        "\n",
        "# Despite the fact that CSV stands for coma separated values, it also supports using\n",
        "# other symbols to distinguish values from different columns. If you open `loan_data.csv` \n",
        "# in a text editor, you will see that values are in fact separated with a semi-colon.\n",
        "# Therefore, we need to specify sep = ';' in `pd.read_csv()` to tell pandas which \n",
        "# symbol to use to separate one column from another. You can try importing the data \n",
        "# without specifying sep (default is ',') and check the summary to see why it does\n",
        "# not work as expected. As always, be sure to check pandas documentation to learn\n",
        "# more about different options when importing the data.\n",
        "data_url = 'https://raw.githubusercontent.com/Humboldt-WI/bads/master/data/loan_data.csv'\n",
        "df       = pd.read_csv(data_url, sep = ';')\n",
        "\n",
        "# Summary of the data\n",
        "df"
      ],
      "execution_count": null,
      "outputs": [
        {
          "output_type": "execute_result",
          "data": {
            "text/html": [
              "<div>\n",
              "<style scoped>\n",
              "    .dataframe tbody tr th:only-of-type {\n",
              "        vertical-align: middle;\n",
              "    }\n",
              "\n",
              "    .dataframe tbody tr th {\n",
              "        vertical-align: top;\n",
              "    }\n",
              "\n",
              "    .dataframe thead th {\n",
              "        text-align: right;\n",
              "    }\n",
              "</style>\n",
              "<table border=\"1\" class=\"dataframe\">\n",
              "  <thead>\n",
              "    <tr style=\"text-align: right;\">\n",
              "      <th></th>\n",
              "      <th>YOB</th>\n",
              "      <th>nKIDS</th>\n",
              "      <th>nDEP</th>\n",
              "      <th>PHON</th>\n",
              "      <th>dINC_SP</th>\n",
              "      <th>EMPS_A</th>\n",
              "      <th>dINC_A</th>\n",
              "      <th>RES</th>\n",
              "      <th>dHVAL</th>\n",
              "      <th>dMBO</th>\n",
              "      <th>dOUTM</th>\n",
              "      <th>dOUTL</th>\n",
              "      <th>dOUTHP</th>\n",
              "      <th>dOUTCC</th>\n",
              "      <th>BAD</th>\n",
              "    </tr>\n",
              "  </thead>\n",
              "  <tbody>\n",
              "    <tr>\n",
              "      <th>0</th>\n",
              "      <td>19.0</td>\n",
              "      <td>4.0</td>\n",
              "      <td>0.0</td>\n",
              "      <td>1</td>\n",
              "      <td>0.0</td>\n",
              "      <td>R</td>\n",
              "      <td>0.0</td>\n",
              "      <td>O</td>\n",
              "      <td>14464.0</td>\n",
              "      <td>4.0</td>\n",
              "      <td>0.0</td>\n",
              "      <td>0.0</td>\n",
              "      <td>0.0</td>\n",
              "      <td>0.0</td>\n",
              "      <td>0.0</td>\n",
              "    </tr>\n",
              "    <tr>\n",
              "      <th>1</th>\n",
              "      <td>41.0</td>\n",
              "      <td>2.0</td>\n",
              "      <td>0.0</td>\n",
              "      <td>1</td>\n",
              "      <td>0.0</td>\n",
              "      <td>P</td>\n",
              "      <td>36000.0</td>\n",
              "      <td>O</td>\n",
              "      <td>0.0</td>\n",
              "      <td>0.0</td>\n",
              "      <td>280.0</td>\n",
              "      <td>664.0</td>\n",
              "      <td>0.0</td>\n",
              "      <td>80.0</td>\n",
              "      <td>0.0</td>\n",
              "    </tr>\n",
              "    <tr>\n",
              "      <th>2</th>\n",
              "      <td>66.0</td>\n",
              "      <td>0.0</td>\n",
              "      <td>0.0</td>\n",
              "      <td>1</td>\n",
              "      <td>0.0</td>\n",
              "      <td>N</td>\n",
              "      <td>30000.0</td>\n",
              "      <td>N</td>\n",
              "      <td>0.0</td>\n",
              "      <td>0.0</td>\n",
              "      <td>0.0</td>\n",
              "      <td>0.0</td>\n",
              "      <td>0.0</td>\n",
              "      <td>0.0</td>\n",
              "      <td>0.0</td>\n",
              "    </tr>\n",
              "    <tr>\n",
              "      <th>3</th>\n",
              "      <td>51.0</td>\n",
              "      <td>2.0</td>\n",
              "      <td>0.0</td>\n",
              "      <td>1</td>\n",
              "      <td>0.0</td>\n",
              "      <td>P</td>\n",
              "      <td>464.0</td>\n",
              "      <td>O</td>\n",
              "      <td>24928.0</td>\n",
              "      <td>8464.0</td>\n",
              "      <td>584.0</td>\n",
              "      <td>320.0</td>\n",
              "      <td>0.0</td>\n",
              "      <td>60.0</td>\n",
              "      <td>0.0</td>\n",
              "    </tr>\n",
              "    <tr>\n",
              "      <th>4</th>\n",
              "      <td>65.0</td>\n",
              "      <td>0.0</td>\n",
              "      <td>0.0</td>\n",
              "      <td>1</td>\n",
              "      <td>0.0</td>\n",
              "      <td>P</td>\n",
              "      <td>15000.0</td>\n",
              "      <td>P</td>\n",
              "      <td>0.0</td>\n",
              "      <td>0.0</td>\n",
              "      <td>0.0</td>\n",
              "      <td>0.0</td>\n",
              "      <td>0.0</td>\n",
              "      <td>0.0</td>\n",
              "      <td>0.0</td>\n",
              "    </tr>\n",
              "    <tr>\n",
              "      <th>...</th>\n",
              "      <td>...</td>\n",
              "      <td>...</td>\n",
              "      <td>...</td>\n",
              "      <td>...</td>\n",
              "      <td>...</td>\n",
              "      <td>...</td>\n",
              "      <td>...</td>\n",
              "      <td>...</td>\n",
              "      <td>...</td>\n",
              "      <td>...</td>\n",
              "      <td>...</td>\n",
              "      <td>...</td>\n",
              "      <td>...</td>\n",
              "      <td>...</td>\n",
              "      <td>...</td>\n",
              "    </tr>\n",
              "    <tr>\n",
              "      <th>1220</th>\n",
              "      <td>52.0</td>\n",
              "      <td>4.0</td>\n",
              "      <td>1.0</td>\n",
              "      <td>1</td>\n",
              "      <td>0.0</td>\n",
              "      <td>V</td>\n",
              "      <td>37764.0</td>\n",
              "      <td>U</td>\n",
              "      <td>0.0</td>\n",
              "      <td>0.0</td>\n",
              "      <td>0.0</td>\n",
              "      <td>340.0</td>\n",
              "      <td>0.0</td>\n",
              "      <td>0.0</td>\n",
              "      <td>0.0</td>\n",
              "    </tr>\n",
              "    <tr>\n",
              "      <th>1221</th>\n",
              "      <td>56.0</td>\n",
              "      <td>3.0</td>\n",
              "      <td>0.0</td>\n",
              "      <td>1</td>\n",
              "      <td>1200.0</td>\n",
              "      <td>P</td>\n",
              "      <td>31500.0</td>\n",
              "      <td>O</td>\n",
              "      <td>6928.0</td>\n",
              "      <td>46464.0</td>\n",
              "      <td>784.0</td>\n",
              "      <td>256.0</td>\n",
              "      <td>0.0</td>\n",
              "      <td>0.0</td>\n",
              "      <td>1.0</td>\n",
              "    </tr>\n",
              "    <tr>\n",
              "      <th>1222</th>\n",
              "      <td>60.0</td>\n",
              "      <td>0.0</td>\n",
              "      <td>0.0</td>\n",
              "      <td>1</td>\n",
              "      <td>0.0</td>\n",
              "      <td>E</td>\n",
              "      <td>46800.0</td>\n",
              "      <td>O</td>\n",
              "      <td>11392.0</td>\n",
              "      <td>928.0</td>\n",
              "      <td>1144.0</td>\n",
              "      <td>680.0</td>\n",
              "      <td>0.0</td>\n",
              "      <td>108.0</td>\n",
              "      <td>0.0</td>\n",
              "    </tr>\n",
              "    <tr>\n",
              "      <th>1223</th>\n",
              "      <td>20.0</td>\n",
              "      <td>0.0</td>\n",
              "      <td>0.0</td>\n",
              "      <td>1</td>\n",
              "      <td>0.0</td>\n",
              "      <td>R</td>\n",
              "      <td>0.0</td>\n",
              "      <td>N</td>\n",
              "      <td>0.0</td>\n",
              "      <td>0.0</td>\n",
              "      <td>0.0</td>\n",
              "      <td>0.0</td>\n",
              "      <td>0.0</td>\n",
              "      <td>0.0</td>\n",
              "      <td>1.0</td>\n",
              "    </tr>\n",
              "    <tr>\n",
              "      <th>1224</th>\n",
              "      <td>66.0</td>\n",
              "      <td>0.0</td>\n",
              "      <td>0.0</td>\n",
              "      <td>1</td>\n",
              "      <td>0.0</td>\n",
              "      <td>T</td>\n",
              "      <td>5538.0</td>\n",
              "      <td>P</td>\n",
              "      <td>0.0</td>\n",
              "      <td>0.0</td>\n",
              "      <td>492.0</td>\n",
              "      <td>0.0</td>\n",
              "      <td>0.0</td>\n",
              "      <td>0.0</td>\n",
              "      <td>0.0</td>\n",
              "    </tr>\n",
              "  </tbody>\n",
              "</table>\n",
              "<p>1225 rows × 15 columns</p>\n",
              "</div>"
            ],
            "text/plain": [
              "       YOB  nKIDS  nDEP  PHON  dINC_SP  ...   dOUTM  dOUTL dOUTHP  dOUTCC  BAD\n",
              "0     19.0    4.0   0.0     1      0.0  ...     0.0    0.0    0.0     0.0  0.0\n",
              "1     41.0    2.0   0.0     1      0.0  ...   280.0  664.0    0.0    80.0  0.0\n",
              "2     66.0    0.0   0.0     1      0.0  ...     0.0    0.0    0.0     0.0  0.0\n",
              "3     51.0    2.0   0.0     1      0.0  ...   584.0  320.0    0.0    60.0  0.0\n",
              "4     65.0    0.0   0.0     1      0.0  ...     0.0    0.0    0.0     0.0  0.0\n",
              "...    ...    ...   ...   ...      ...  ...     ...    ...    ...     ...  ...\n",
              "1220  52.0    4.0   1.0     1      0.0  ...     0.0  340.0    0.0     0.0  0.0\n",
              "1221  56.0    3.0   0.0     1   1200.0  ...   784.0  256.0    0.0     0.0  1.0\n",
              "1222  60.0    0.0   0.0     1      0.0  ...  1144.0  680.0    0.0   108.0  0.0\n",
              "1223  20.0    0.0   0.0     1      0.0  ...     0.0    0.0    0.0     0.0  1.0\n",
              "1224  66.0    0.0   0.0     1      0.0  ...   492.0    0.0    0.0     0.0  0.0\n",
              "\n",
              "[1225 rows x 15 columns]"
            ]
          },
          "metadata": {
            "tags": []
          },
          "execution_count": 2
        }
      ]
    },
    {
      "cell_type": "markdown",
      "metadata": {
        "id": "Bqw_wcW2ZbTW"
      },
      "source": [
        "By now, you have run through the process of getting a first idea about a new data set many times. You have seen examples in previous tutorials and have written your own codes in, e.g., the third exercise on predictive analytics. Nonetheless, draw once more on your experience and take a quick look into the data.  "
      ]
    },
    {
      "cell_type": "code",
      "metadata": {
        "colab": {
          "base_uri": "https://localhost:8080/"
        },
        "id": "LZfKUAryeDY2",
        "outputId": "d1e8ea62-4cca-4a9e-c07d-e5fa9f104839"
      },
      "source": [
        "# Check data dimensions \n",
        "print('Number of variables: {}'.format(df.shape[1])) \n",
        "print('Number of cases:     {}'.format(df.shape[0])) "
      ],
      "execution_count": null,
      "outputs": [
        {
          "output_type": "stream",
          "text": [
            "Number of variables: 15\n",
            "Number of cases:     1225\n"
          ],
          "name": "stdout"
        }
      ]
    },
    {
      "cell_type": "code",
      "metadata": {
        "id": "Q_Lfg0zPZbTW",
        "colab": {
          "base_uri": "https://localhost:8080/",
          "height": 266
        },
        "outputId": "1410f69f-5c74-4fd6-808f-15fc72724780"
      },
      "source": [
        "# Examine top-7 rows of the data\n",
        "df.head(7)"
      ],
      "execution_count": null,
      "outputs": [
        {
          "output_type": "execute_result",
          "data": {
            "text/html": [
              "<div>\n",
              "<style scoped>\n",
              "    .dataframe tbody tr th:only-of-type {\n",
              "        vertical-align: middle;\n",
              "    }\n",
              "\n",
              "    .dataframe tbody tr th {\n",
              "        vertical-align: top;\n",
              "    }\n",
              "\n",
              "    .dataframe thead th {\n",
              "        text-align: right;\n",
              "    }\n",
              "</style>\n",
              "<table border=\"1\" class=\"dataframe\">\n",
              "  <thead>\n",
              "    <tr style=\"text-align: right;\">\n",
              "      <th></th>\n",
              "      <th>YOB</th>\n",
              "      <th>nKIDS</th>\n",
              "      <th>nDEP</th>\n",
              "      <th>PHON</th>\n",
              "      <th>dINC_SP</th>\n",
              "      <th>EMPS_A</th>\n",
              "      <th>dINC_A</th>\n",
              "      <th>RES</th>\n",
              "      <th>dHVAL</th>\n",
              "      <th>dMBO</th>\n",
              "      <th>dOUTM</th>\n",
              "      <th>dOUTL</th>\n",
              "      <th>dOUTHP</th>\n",
              "      <th>dOUTCC</th>\n",
              "      <th>BAD</th>\n",
              "    </tr>\n",
              "  </thead>\n",
              "  <tbody>\n",
              "    <tr>\n",
              "      <th>0</th>\n",
              "      <td>19.0</td>\n",
              "      <td>4.0</td>\n",
              "      <td>0.0</td>\n",
              "      <td>1</td>\n",
              "      <td>0.0</td>\n",
              "      <td>R</td>\n",
              "      <td>0.0</td>\n",
              "      <td>O</td>\n",
              "      <td>14464.0</td>\n",
              "      <td>4.0</td>\n",
              "      <td>0.0</td>\n",
              "      <td>0.0</td>\n",
              "      <td>0.0</td>\n",
              "      <td>0.0</td>\n",
              "      <td>0.0</td>\n",
              "    </tr>\n",
              "    <tr>\n",
              "      <th>1</th>\n",
              "      <td>41.0</td>\n",
              "      <td>2.0</td>\n",
              "      <td>0.0</td>\n",
              "      <td>1</td>\n",
              "      <td>0.0</td>\n",
              "      <td>P</td>\n",
              "      <td>36000.0</td>\n",
              "      <td>O</td>\n",
              "      <td>0.0</td>\n",
              "      <td>0.0</td>\n",
              "      <td>280.0</td>\n",
              "      <td>664.0</td>\n",
              "      <td>0.0</td>\n",
              "      <td>80.0</td>\n",
              "      <td>0.0</td>\n",
              "    </tr>\n",
              "    <tr>\n",
              "      <th>2</th>\n",
              "      <td>66.0</td>\n",
              "      <td>0.0</td>\n",
              "      <td>0.0</td>\n",
              "      <td>1</td>\n",
              "      <td>0.0</td>\n",
              "      <td>N</td>\n",
              "      <td>30000.0</td>\n",
              "      <td>N</td>\n",
              "      <td>0.0</td>\n",
              "      <td>0.0</td>\n",
              "      <td>0.0</td>\n",
              "      <td>0.0</td>\n",
              "      <td>0.0</td>\n",
              "      <td>0.0</td>\n",
              "      <td>0.0</td>\n",
              "    </tr>\n",
              "    <tr>\n",
              "      <th>3</th>\n",
              "      <td>51.0</td>\n",
              "      <td>2.0</td>\n",
              "      <td>0.0</td>\n",
              "      <td>1</td>\n",
              "      <td>0.0</td>\n",
              "      <td>P</td>\n",
              "      <td>464.0</td>\n",
              "      <td>O</td>\n",
              "      <td>24928.0</td>\n",
              "      <td>8464.0</td>\n",
              "      <td>584.0</td>\n",
              "      <td>320.0</td>\n",
              "      <td>0.0</td>\n",
              "      <td>60.0</td>\n",
              "      <td>0.0</td>\n",
              "    </tr>\n",
              "    <tr>\n",
              "      <th>4</th>\n",
              "      <td>65.0</td>\n",
              "      <td>0.0</td>\n",
              "      <td>0.0</td>\n",
              "      <td>1</td>\n",
              "      <td>0.0</td>\n",
              "      <td>P</td>\n",
              "      <td>15000.0</td>\n",
              "      <td>P</td>\n",
              "      <td>0.0</td>\n",
              "      <td>0.0</td>\n",
              "      <td>0.0</td>\n",
              "      <td>0.0</td>\n",
              "      <td>0.0</td>\n",
              "      <td>0.0</td>\n",
              "      <td>0.0</td>\n",
              "    </tr>\n",
              "    <tr>\n",
              "      <th>5</th>\n",
              "      <td>42.0</td>\n",
              "      <td>2.0</td>\n",
              "      <td>0.0</td>\n",
              "      <td>1</td>\n",
              "      <td>10500.0</td>\n",
              "      <td>E</td>\n",
              "      <td>48000.0</td>\n",
              "      <td>O</td>\n",
              "      <td>43392.0</td>\n",
              "      <td>46464.0</td>\n",
              "      <td>1120.0</td>\n",
              "      <td>0.0</td>\n",
              "      <td>0.0</td>\n",
              "      <td>0.0</td>\n",
              "      <td>0.0</td>\n",
              "    </tr>\n",
              "    <tr>\n",
              "      <th>6</th>\n",
              "      <td>59.0</td>\n",
              "      <td>0.0</td>\n",
              "      <td>0.0</td>\n",
              "      <td>1</td>\n",
              "      <td>6500.0</td>\n",
              "      <td>B</td>\n",
              "      <td>30000.0</td>\n",
              "      <td>O</td>\n",
              "      <td>62464.0</td>\n",
              "      <td>56000.0</td>\n",
              "      <td>520.0</td>\n",
              "      <td>0.0</td>\n",
              "      <td>96.0</td>\n",
              "      <td>0.0</td>\n",
              "      <td>0.0</td>\n",
              "    </tr>\n",
              "  </tbody>\n",
              "</table>\n",
              "</div>"
            ],
            "text/plain": [
              "    YOB  nKIDS  nDEP  PHON  dINC_SP  ...   dOUTM  dOUTL dOUTHP  dOUTCC  BAD\n",
              "0  19.0    4.0   0.0     1      0.0  ...     0.0    0.0    0.0     0.0  0.0\n",
              "1  41.0    2.0   0.0     1      0.0  ...   280.0  664.0    0.0    80.0  0.0\n",
              "2  66.0    0.0   0.0     1      0.0  ...     0.0    0.0    0.0     0.0  0.0\n",
              "3  51.0    2.0   0.0     1      0.0  ...   584.0  320.0    0.0    60.0  0.0\n",
              "4  65.0    0.0   0.0     1      0.0  ...     0.0    0.0    0.0     0.0  0.0\n",
              "5  42.0    2.0   0.0     1  10500.0  ...  1120.0    0.0    0.0     0.0  0.0\n",
              "6  59.0    0.0   0.0     1   6500.0  ...   520.0    0.0   96.0     0.0  0.0\n",
              "\n",
              "[7 rows x 15 columns]"
            ]
          },
          "metadata": {
            "tags": []
          },
          "execution_count": 4
        }
      ]
    },
    {
      "cell_type": "code",
      "metadata": {
        "colab": {
          "base_uri": "https://localhost:8080/",
          "height": 472
        },
        "id": "v0RSS-2zec8B",
        "outputId": "2e1d2924-16f4-46a6-c9b9-7ecb708e2aa0"
      },
      "source": [
        "# Summary statistics for all features. We specify custom percentile values for \n",
        "# numeric features and set include = 'all' to display statistics for categorical \n",
        "# features as well.\n",
        "df.describe(percentiles = [0.1, 0.25, 0.5, 0.75, 0.9],\n",
        "            include     = 'all')"
      ],
      "execution_count": null,
      "outputs": [
        {
          "output_type": "execute_result",
          "data": {
            "text/html": [
              "<div>\n",
              "<style scoped>\n",
              "    .dataframe tbody tr th:only-of-type {\n",
              "        vertical-align: middle;\n",
              "    }\n",
              "\n",
              "    .dataframe tbody tr th {\n",
              "        vertical-align: top;\n",
              "    }\n",
              "\n",
              "    .dataframe thead th {\n",
              "        text-align: right;\n",
              "    }\n",
              "</style>\n",
              "<table border=\"1\" class=\"dataframe\">\n",
              "  <thead>\n",
              "    <tr style=\"text-align: right;\">\n",
              "      <th></th>\n",
              "      <th>YOB</th>\n",
              "      <th>nKIDS</th>\n",
              "      <th>nDEP</th>\n",
              "      <th>PHON</th>\n",
              "      <th>dINC_SP</th>\n",
              "      <th>EMPS_A</th>\n",
              "      <th>dINC_A</th>\n",
              "      <th>RES</th>\n",
              "      <th>dHVAL</th>\n",
              "      <th>dMBO</th>\n",
              "      <th>dOUTM</th>\n",
              "      <th>dOUTL</th>\n",
              "      <th>dOUTHP</th>\n",
              "      <th>dOUTCC</th>\n",
              "      <th>BAD</th>\n",
              "    </tr>\n",
              "  </thead>\n",
              "  <tbody>\n",
              "    <tr>\n",
              "      <th>count</th>\n",
              "      <td>1225.000000</td>\n",
              "      <td>1225.000000</td>\n",
              "      <td>1225.000000</td>\n",
              "      <td>1225.000000</td>\n",
              "      <td>1225.000000</td>\n",
              "      <td>1225</td>\n",
              "      <td>1225.000000</td>\n",
              "      <td>1225</td>\n",
              "      <td>1225.000000</td>\n",
              "      <td>1225.000000</td>\n",
              "      <td>1225.000000</td>\n",
              "      <td>1225.000000</td>\n",
              "      <td>1225.000000</td>\n",
              "      <td>1225.000000</td>\n",
              "      <td>1225.000000</td>\n",
              "    </tr>\n",
              "    <tr>\n",
              "      <th>unique</th>\n",
              "      <td>NaN</td>\n",
              "      <td>NaN</td>\n",
              "      <td>NaN</td>\n",
              "      <td>NaN</td>\n",
              "      <td>NaN</td>\n",
              "      <td>11</td>\n",
              "      <td>NaN</td>\n",
              "      <td>5</td>\n",
              "      <td>NaN</td>\n",
              "      <td>NaN</td>\n",
              "      <td>NaN</td>\n",
              "      <td>NaN</td>\n",
              "      <td>NaN</td>\n",
              "      <td>NaN</td>\n",
              "      <td>NaN</td>\n",
              "    </tr>\n",
              "    <tr>\n",
              "      <th>top</th>\n",
              "      <td>NaN</td>\n",
              "      <td>NaN</td>\n",
              "      <td>NaN</td>\n",
              "      <td>NaN</td>\n",
              "      <td>NaN</td>\n",
              "      <td>P</td>\n",
              "      <td>NaN</td>\n",
              "      <td>O</td>\n",
              "      <td>NaN</td>\n",
              "      <td>NaN</td>\n",
              "      <td>NaN</td>\n",
              "      <td>NaN</td>\n",
              "      <td>NaN</td>\n",
              "      <td>NaN</td>\n",
              "      <td>NaN</td>\n",
              "    </tr>\n",
              "    <tr>\n",
              "      <th>freq</th>\n",
              "      <td>NaN</td>\n",
              "      <td>NaN</td>\n",
              "      <td>NaN</td>\n",
              "      <td>NaN</td>\n",
              "      <td>NaN</td>\n",
              "      <td>531</td>\n",
              "      <td>NaN</td>\n",
              "      <td>624</td>\n",
              "      <td>NaN</td>\n",
              "      <td>NaN</td>\n",
              "      <td>NaN</td>\n",
              "      <td>NaN</td>\n",
              "      <td>NaN</td>\n",
              "      <td>NaN</td>\n",
              "      <td>NaN</td>\n",
              "    </tr>\n",
              "    <tr>\n",
              "      <th>mean</th>\n",
              "      <td>51.037551</td>\n",
              "      <td>0.623673</td>\n",
              "      <td>0.038367</td>\n",
              "      <td>0.903673</td>\n",
              "      <td>1990.084898</td>\n",
              "      <td>NaN</td>\n",
              "      <td>21244.211429</td>\n",
              "      <td>NaN</td>\n",
              "      <td>15693.857959</td>\n",
              "      <td>11225.691429</td>\n",
              "      <td>342.004898</td>\n",
              "      <td>121.926531</td>\n",
              "      <td>28.721633</td>\n",
              "      <td>39.595102</td>\n",
              "      <td>0.263673</td>\n",
              "    </tr>\n",
              "    <tr>\n",
              "      <th>std</th>\n",
              "      <td>15.301818</td>\n",
              "      <td>1.016013</td>\n",
              "      <td>0.219917</td>\n",
              "      <td>0.295159</td>\n",
              "      <td>4802.341425</td>\n",
              "      <td>NaN</td>\n",
              "      <td>15896.207986</td>\n",
              "      <td>NaN</td>\n",
              "      <td>20736.331833</td>\n",
              "      <td>18889.207107</td>\n",
              "      <td>427.993865</td>\n",
              "      <td>839.639588</td>\n",
              "      <td>119.324084</td>\n",
              "      <td>168.697101</td>\n",
              "      <td>0.440804</td>\n",
              "    </tr>\n",
              "    <tr>\n",
              "      <th>min</th>\n",
              "      <td>3.000000</td>\n",
              "      <td>0.000000</td>\n",
              "      <td>0.000000</td>\n",
              "      <td>0.000000</td>\n",
              "      <td>0.000000</td>\n",
              "      <td>NaN</td>\n",
              "      <td>0.000000</td>\n",
              "      <td>NaN</td>\n",
              "      <td>0.000000</td>\n",
              "      <td>0.000000</td>\n",
              "      <td>0.000000</td>\n",
              "      <td>0.000000</td>\n",
              "      <td>0.000000</td>\n",
              "      <td>0.000000</td>\n",
              "      <td>0.000000</td>\n",
              "    </tr>\n",
              "    <tr>\n",
              "      <th>10%</th>\n",
              "      <td>28.400000</td>\n",
              "      <td>0.000000</td>\n",
              "      <td>0.000000</td>\n",
              "      <td>1.000000</td>\n",
              "      <td>0.000000</td>\n",
              "      <td>NaN</td>\n",
              "      <td>0.000000</td>\n",
              "      <td>NaN</td>\n",
              "      <td>0.000000</td>\n",
              "      <td>0.000000</td>\n",
              "      <td>0.000000</td>\n",
              "      <td>0.000000</td>\n",
              "      <td>0.000000</td>\n",
              "      <td>0.000000</td>\n",
              "      <td>0.000000</td>\n",
              "    </tr>\n",
              "    <tr>\n",
              "      <th>25%</th>\n",
              "      <td>42.000000</td>\n",
              "      <td>0.000000</td>\n",
              "      <td>0.000000</td>\n",
              "      <td>1.000000</td>\n",
              "      <td>0.000000</td>\n",
              "      <td>NaN</td>\n",
              "      <td>9000.000000</td>\n",
              "      <td>NaN</td>\n",
              "      <td>0.000000</td>\n",
              "      <td>0.000000</td>\n",
              "      <td>0.000000</td>\n",
              "      <td>0.000000</td>\n",
              "      <td>0.000000</td>\n",
              "      <td>0.000000</td>\n",
              "      <td>0.000000</td>\n",
              "    </tr>\n",
              "    <tr>\n",
              "      <th>50%</th>\n",
              "      <td>55.000000</td>\n",
              "      <td>0.000000</td>\n",
              "      <td>0.000000</td>\n",
              "      <td>1.000000</td>\n",
              "      <td>0.000000</td>\n",
              "      <td>NaN</td>\n",
              "      <td>19500.000000</td>\n",
              "      <td>NaN</td>\n",
              "      <td>0.000000</td>\n",
              "      <td>0.000000</td>\n",
              "      <td>256.000000</td>\n",
              "      <td>0.000000</td>\n",
              "      <td>0.000000</td>\n",
              "      <td>0.000000</td>\n",
              "      <td>0.000000</td>\n",
              "    </tr>\n",
              "    <tr>\n",
              "      <th>75%</th>\n",
              "      <td>63.000000</td>\n",
              "      <td>1.000000</td>\n",
              "      <td>0.000000</td>\n",
              "      <td>1.000000</td>\n",
              "      <td>1040.000000</td>\n",
              "      <td>NaN</td>\n",
              "      <td>30600.000000</td>\n",
              "      <td>NaN</td>\n",
              "      <td>28928.000000</td>\n",
              "      <td>20000.000000</td>\n",
              "      <td>528.000000</td>\n",
              "      <td>0.000000</td>\n",
              "      <td>0.000000</td>\n",
              "      <td>0.000000</td>\n",
              "      <td>1.000000</td>\n",
              "    </tr>\n",
              "    <tr>\n",
              "      <th>90%</th>\n",
              "      <td>67.000000</td>\n",
              "      <td>2.000000</td>\n",
              "      <td>0.000000</td>\n",
              "      <td>1.000000</td>\n",
              "      <td>8000.000000</td>\n",
              "      <td>NaN</td>\n",
              "      <td>44280.000000</td>\n",
              "      <td>NaN</td>\n",
              "      <td>50464.000000</td>\n",
              "      <td>46464.000000</td>\n",
              "      <td>840.000000</td>\n",
              "      <td>390.400000</td>\n",
              "      <td>42.400000</td>\n",
              "      <td>100.000000</td>\n",
              "      <td>1.000000</td>\n",
              "    </tr>\n",
              "    <tr>\n",
              "      <th>max</th>\n",
              "      <td>99.000000</td>\n",
              "      <td>5.000000</td>\n",
              "      <td>2.000000</td>\n",
              "      <td>1.000000</td>\n",
              "      <td>50000.000000</td>\n",
              "      <td>NaN</td>\n",
              "      <td>64800.000000</td>\n",
              "      <td>NaN</td>\n",
              "      <td>64928.000000</td>\n",
              "      <td>64000.000000</td>\n",
              "      <td>3800.000000</td>\n",
              "      <td>28000.000000</td>\n",
              "      <td>1600.000000</td>\n",
              "      <td>2800.000000</td>\n",
              "      <td>1.000000</td>\n",
              "    </tr>\n",
              "  </tbody>\n",
              "</table>\n",
              "</div>"
            ],
            "text/plain": [
              "                YOB        nKIDS  ...       dOUTCC          BAD\n",
              "count   1225.000000  1225.000000  ...  1225.000000  1225.000000\n",
              "unique          NaN          NaN  ...          NaN          NaN\n",
              "top             NaN          NaN  ...          NaN          NaN\n",
              "freq            NaN          NaN  ...          NaN          NaN\n",
              "mean      51.037551     0.623673  ...    39.595102     0.263673\n",
              "std       15.301818     1.016013  ...   168.697101     0.440804\n",
              "min        3.000000     0.000000  ...     0.000000     0.000000\n",
              "10%       28.400000     0.000000  ...     0.000000     0.000000\n",
              "25%       42.000000     0.000000  ...     0.000000     0.000000\n",
              "50%       55.000000     0.000000  ...     0.000000     0.000000\n",
              "75%       63.000000     1.000000  ...     0.000000     1.000000\n",
              "90%       67.000000     2.000000  ...   100.000000     1.000000\n",
              "max       99.000000     5.000000  ...  2800.000000     1.000000\n",
              "\n",
              "[13 rows x 15 columns]"
            ]
          },
          "metadata": {
            "tags": []
          },
          "execution_count": 5
        }
      ]
    },
    {
      "cell_type": "code",
      "metadata": {
        "colab": {
          "base_uri": "https://localhost:8080/"
        },
        "id": "cSeqmWAjd-kG",
        "outputId": "5ba78c13-3e40-4e9c-e0bc-49e5b34407a8"
      },
      "source": [
        "# Data overview is important to check the number of missing values and feature \n",
        "# types. The output suggests that there are no missing values and two features are\n",
        "# stored as non-numeric objects.\n",
        "df.info()"
      ],
      "execution_count": null,
      "outputs": [
        {
          "output_type": "stream",
          "text": [
            "<class 'pandas.core.frame.DataFrame'>\n",
            "RangeIndex: 1225 entries, 0 to 1224\n",
            "Data columns (total 15 columns):\n",
            " #   Column   Non-Null Count  Dtype  \n",
            "---  ------   --------------  -----  \n",
            " 0   YOB      1225 non-null   float64\n",
            " 1   nKIDS    1225 non-null   float64\n",
            " 2   nDEP     1225 non-null   float64\n",
            " 3   PHON     1225 non-null   int64  \n",
            " 4   dINC_SP  1225 non-null   float64\n",
            " 5   EMPS_A   1225 non-null   object \n",
            " 6   dINC_A   1225 non-null   float64\n",
            " 7   RES      1225 non-null   object \n",
            " 8   dHVAL    1225 non-null   float64\n",
            " 9   dMBO     1225 non-null   float64\n",
            " 10  dOUTM    1225 non-null   float64\n",
            " 11  dOUTL    1225 non-null   float64\n",
            " 12  dOUTHP   1225 non-null   float64\n",
            " 13  dOUTCC   1225 non-null   float64\n",
            " 14  BAD      1225 non-null   float64\n",
            "dtypes: float64(12), int64(1), object(2)\n",
            "memory usage: 143.7+ KB\n"
          ],
          "name": "stdout"
        }
      ]
    },
    {
      "cell_type": "markdown",
      "metadata": {
        "id": "KLp5_dlrZbTW"
      },
      "source": [
        "## 2 Data types\n",
        "You can tell from the data dictionary that the loan data includes numeric and categorical variables. Draw on the examples from [Tutorial 4](https://github.com/Humboldt-WI/bads/blob/master/tutorials/4_nb_data_preparation.ipynb) and make sure that all numeric features are stored as `float32` and all categorical features are stored as categories in your DataFame"
      ]
    },
    {
      "cell_type": "code",
      "metadata": {
        "id": "T98lRbjOZbTW",
        "colab": {
          "base_uri": "https://localhost:8080/"
        },
        "outputId": "e680ec81-119d-411d-8d61-be902d41778e"
      },
      "source": [
        "# According to the data dictionary, there are two categorical features: EMPS_A and RES.\n",
        "# As we saw in the `df.info()` command executed in the above cell, these two features\n",
        "# are stored as objects. We need to convert them to the category format using `astype()`\n",
        "\n",
        "# Encode categories properly \n",
        "cat_features = ['EMPS_A', 'RES']\n",
        "for var in cat_features:\n",
        "  df[var] = df[var].astype('category')\n",
        "\n",
        "# Verify the conversion was successful\n",
        "df.info()  "
      ],
      "execution_count": null,
      "outputs": [
        {
          "output_type": "stream",
          "text": [
            "<class 'pandas.core.frame.DataFrame'>\n",
            "RangeIndex: 1225 entries, 0 to 1224\n",
            "Data columns (total 15 columns):\n",
            " #   Column   Non-Null Count  Dtype   \n",
            "---  ------   --------------  -----   \n",
            " 0   YOB      1225 non-null   float64 \n",
            " 1   nKIDS    1225 non-null   float64 \n",
            " 2   nDEP     1225 non-null   float64 \n",
            " 3   PHON     1225 non-null   int64   \n",
            " 4   dINC_SP  1225 non-null   float64 \n",
            " 5   EMPS_A   1225 non-null   category\n",
            " 6   dINC_A   1225 non-null   float64 \n",
            " 7   RES      1225 non-null   category\n",
            " 8   dHVAL    1225 non-null   float64 \n",
            " 9   dMBO     1225 non-null   float64 \n",
            " 10  dOUTM    1225 non-null   float64 \n",
            " 11  dOUTL    1225 non-null   float64 \n",
            " 12  dOUTHP   1225 non-null   float64 \n",
            " 13  dOUTCC   1225 non-null   float64 \n",
            " 14  BAD      1225 non-null   float64 \n",
            "dtypes: category(2), float64(12), int64(1)\n",
            "memory usage: 127.5 KB\n"
          ],
          "name": "stdout"
        }
      ]
    },
    {
      "cell_type": "code",
      "metadata": {
        "colab": {
          "base_uri": "https://localhost:8080/"
        },
        "id": "eQvmMyMOoK12",
        "outputId": "136bd13b-3eef-4870-8a5b-9f081987529f"
      },
      "source": [
        "# There is nothing wrong with storing all numeric features as `float64`. However, \n",
        "# if memory usage becomes an issue (e.g., when working with much larger data sets), \n",
        "# we can make use of the column types to reduce memory consumption. For instance, \n",
        "# `float64` supports 15 digits of precision, whereas `float32` allows 6 digits \n",
        "# after the dot, which is often enough in practice. Furthermore, we can convert a\n",
        "# float-encoded feature to `int64` or `int32` if we know that it always takes \n",
        "# integer values only. You can check this blog post for more tips on reducing the \n",
        "# memory usage with different data types:\n",
        "# https://towardsdatascience.com/pandas-save-memory-with-these-simple-tricks-943841f8c32\n",
        "\n",
        "# Note that PHON is a binary feature taking values 0 and 1, which is stored as `int64`,\n",
        "# whereas BAD is also a binary column encoded as `float64`. It is common practice to \n",
        "# encode binary features as numeric because it is convenient to perform different\n",
        "# calculations (for instance, computing mean). At the same time, it is also possible\n",
        "# to encode binary features as `bool` taking values True and False. For now, we will\n",
        "# stick to the numeric encoding and convert PHON to `float32`.\n",
        "\n",
        "# Identify list of continuous features\n",
        "con_features = [var for var in df.columns if var not in cat_features]\n",
        "\n",
        "# Encode continuous features\n",
        "for var in con_features:\n",
        "  df[var] = df[var].astype('float32')\n",
        "\n",
        "# Verify the conversion was successful\n",
        "df.info()"
      ],
      "execution_count": null,
      "outputs": [
        {
          "output_type": "stream",
          "text": [
            "<class 'pandas.core.frame.DataFrame'>\n",
            "RangeIndex: 1225 entries, 0 to 1224\n",
            "Data columns (total 15 columns):\n",
            " #   Column   Non-Null Count  Dtype   \n",
            "---  ------   --------------  -----   \n",
            " 0   YOB      1225 non-null   float32 \n",
            " 1   nKIDS    1225 non-null   float32 \n",
            " 2   nDEP     1225 non-null   float32 \n",
            " 3   PHON     1225 non-null   float32 \n",
            " 4   dINC_SP  1225 non-null   float32 \n",
            " 5   EMPS_A   1225 non-null   category\n",
            " 6   dINC_A   1225 non-null   float32 \n",
            " 7   RES      1225 non-null   category\n",
            " 8   dHVAL    1225 non-null   float32 \n",
            " 9   dMBO     1225 non-null   float32 \n",
            " 10  dOUTM    1225 non-null   float32 \n",
            " 11  dOUTL    1225 non-null   float32 \n",
            " 12  dOUTHP   1225 non-null   float32 \n",
            " 13  dOUTCC   1225 non-null   float32 \n",
            " 14  BAD      1225 non-null   float32 \n",
            "dtypes: category(2), float32(13)\n",
            "memory usage: 65.3 KB\n"
          ],
          "name": "stdout"
        }
      ]
    },
    {
      "cell_type": "markdown",
      "metadata": {
        "id": "JppjQgXwZbTW"
      },
      "source": [
        "## EDA\n",
        "### 3.1 Histogram\n",
        "The data includes a feature dINC_A, which captures the income of a credit applicant. We would expect that this feature is related to our target variable, which is called BAD in the data set. \n",
        "\n",
        "Create a histogram plot of the income feature and examine its distribution."
      ]
    },
    {
      "cell_type": "code",
      "metadata": {
        "id": "1eU2Q0g3ZbTW",
        "colab": {
          "base_uri": "https://localhost:8080/",
          "height": 315
        },
        "outputId": "adce6430-6291-440a-c2d2-2f3d3fad81d7"
      },
      "source": [
        "# Histogram of dINC_A \n",
        "df.hist(column = 'dINC_A', # what feature to plot\n",
        "        bins   = 25)       # number of bins\n",
        "\n",
        "# Histogram reveals that there is a large portion of applicants (more than 200) with \n",
        "# no income. The rest is distributed between 0 and about 65.000, with most values \n",
        "# lying between 5.000 and 35.000. We also see that the right tail of distribiton\n",
        "# is rather long, indicating that the number of applicants earning at least X tends\n",
        "# to gradually decrease when X goes above 25.000 and higher."
      ],
      "execution_count": null,
      "outputs": [
        {
          "output_type": "execute_result",
          "data": {
            "text/plain": [
              "array([[<matplotlib.axes._subplots.AxesSubplot object at 0x7fdc7f36d9e8>]],\n",
              "      dtype=object)"
            ]
          },
          "metadata": {
            "tags": []
          },
          "execution_count": 9
        },
        {
          "output_type": "display_data",
          "data": {
            "image/png": "[encoded data removed]",
            "text/plain": [
              "<Figure size 432x288 with 1 Axes>"
            ]
          },
          "metadata": {
            "tags": [],
            "needs_background": "light"
          }
        }
      ]
    },
    {
      "cell_type": "markdown",
      "metadata": {
        "id": "ctG_AqMCZbTW"
      },
      "source": [
        "The distribution reveals some potentially important insights. However, the histogram alone does not suffice to check our intuition that income and credit risk are related. To that end, let's examine the income distribution across good and bad credit applications.\n",
        "\n",
        "### 3.2 Analysis of the dependency between applicants' income and credit risk\n",
        "We begin with a manual approach, which also allows us to revisit logical indexing in Python and Pandas. Calculate the average income of a credit applicant for good risks and for bad risks."
      ]
    },
    {
      "cell_type": "code",
      "metadata": {
        "id": "YneNDUoPZbTW",
        "colab": {
          "base_uri": "https://localhost:8080/"
        },
        "outputId": "8b0d6e03-8ae3-4770-e494-2d7b45c6d075"
      },
      "source": [
        "# Calculate the group-wise mean of dINC_A for good and bad risks using logical indexing\n",
        "m0 = df.loc[df['BAD'] == 0]['dINC_A'].mean()\n",
        "m1 = df.loc[df['BAD'] == 1]['dINC_A'].mean()\n",
        "print('Mean income for GOOD risks: {:.4f}'.format(m0)) # {:.4f} implies that we  will print a float value rounded to 4 digits after the dot\n",
        "print('Mean income for BAD risks:  {:.4f}'.format(m1))"
      ],
      "execution_count": null,
      "outputs": [
        {
          "output_type": "stream",
          "text": [
            "Mean income for GOOD risks: 23008.6445\n",
            "Mean income for BAD risks:  16316.9131\n"
          ],
          "name": "stdout"
        }
      ]
    },
    {
      "cell_type": "markdown",
      "metadata": {
        "id": "HP-HaAzlZbTW"
      },
      "source": [
        "Remember that the Pandas function `groupby()` allows you to perform an analysis similar to your above calculation of the group-wise means. Replicate the previous calculation using `groupby()`.  "
      ]
    },
    {
      "cell_type": "code",
      "metadata": {
        "id": "hmP1IHdNZbTW",
        "colab": {
          "base_uri": "https://localhost:8080/"
        },
        "outputId": "eeae65dd-dfab-42cc-dd3c-541ebed9e1f3"
      },
      "source": [
        "# Replicate previous results using groupby()\n",
        "df.groupby('BAD')['dINC_A'].mean()"
      ],
      "execution_count": null,
      "outputs": [
        {
          "output_type": "execute_result",
          "data": {
            "text/plain": [
              "BAD\n",
              "0.0    23008.642578\n",
              "1.0    16316.913086\n",
              "Name: dINC_A, dtype: float32"
            ]
          },
          "metadata": {
            "tags": []
          },
          "execution_count": 11
        }
      ]
    },
    {
      "cell_type": "markdown",
      "metadata": {
        "id": "DyifuA9ZZbTW"
      },
      "source": [
        "Next, we perform a graphical analysis. Depict the distribution of the income of customers with a good and bad risk, respectively, by means of a box-plot."
      ]
    },
    {
      "cell_type": "code",
      "metadata": {
        "id": "I2BTcI5RZbTW",
        "colab": {
          "base_uri": "https://localhost:8080/",
          "height": 318
        },
        "outputId": "655bd2a8-cb1c-4143-c933-cf5df86f3137"
      },
      "source": [
        "# Box plot\n",
        "df.boxplot(column = 'dINC_A', # feature to plot  \n",
        "           by     = 'BAD')    # feature to group by"
      ],
      "execution_count": null,
      "outputs": [
        {
          "output_type": "execute_result",
          "data": {
            "text/plain": [
              "<matplotlib.axes._subplots.AxesSubplot at 0x7fdc7f212860>"
            ]
          },
          "metadata": {
            "tags": []
          },
          "execution_count": 12
        },
        {
          "output_type": "display_data",
          "data": {
            "image/png": "[encoded data removed]",
            "text/plain": [
              "<Figure size 432x288 with 1 Axes>"
            ]
          },
          "metadata": {
            "tags": [],
            "needs_background": "light"
          }
        }
      ]
    },
    {
      "cell_type": "code",
      "metadata": {
        "id": "pA32zBM_zjku"
      },
      "source": [
        "# Comparison of mean values and box plots confirms our intuition that BAD risks tend\n",
        "# to have lower income than GOOD risks. Remember that boxes visualize the upper \n",
        "# and lower quartiles of a feature distribution. In our case, we observe that \n",
        "# half of the GOOD applicants have income between about 12.000 and 32.000, whereas\n",
        "# half of the BAD risks have income between 0 and 26.000."
      ],
      "execution_count": null,
      "outputs": []
    },
    {
      "cell_type": "markdown",
      "metadata": {
        "id": "hjU3pxKBZbTW"
      },
      "source": [
        "### 3.3 Statistical testing\n",
        "Identify an appropriate statistical test to verify whether the observed income difference between good and bad applicants is statistically significant. Perform the test and display its results. Hint: A web-search similar to “statistical test difference in means python” will help."
      ]
    },
    {
      "cell_type": "code",
      "metadata": {
        "id": "s4QmIP99ZbTW",
        "colab": {
          "base_uri": "https://localhost:8080/"
        },
        "outputId": "6409a79a-4e62-41d3-f380-aa856152690d"
      },
      "source": [
        "# One way to perform statistical testing of mean differences is a two-sided t-test.\n",
        "# T-test checks the null hypothesis that two independent samples have identical average \n",
        "# (expected) values. In Python, t-test is implemented in several packages. The most \n",
        "# popular implementation is probably `ttest_ind()` that is part of the `scipy.stats` \n",
        "# package. Let's check the function documentation:\n",
        "# https://docs.scipy.org/doc/scipy/reference/generated/scipy.stats.ttest_ind.html\n",
        "\n",
        "# Note that the two-sided t-test assumes equal variance within the samples by default.\n",
        "# To run the correct version of the t-test (default or adjusted for unequal variances),\n",
        "# we first need to check this assumption. One way to do that is to run a Levene test \n",
        "# for equal variances, which has the null hypothesis that variances within the samples\n",
        "# are equal. If the Levene test rejects the null hypothesis, we can perform statistical \n",
        "# testing of mean differences using Welch’s t-test modification, which does not assume\n",
        "# equal population variance, instead of the standrad t-test. This can be done simply \n",
        "# by specifying equal_var = False in the `ttest_ind() function`.\n",
        "\n",
        "# Let's run the Levene test first:\n",
        "from scipy import stats\n",
        "stats.levene(df.loc[df['BAD'] == 0]['dINC_A'], # good risks\n",
        "             df.loc[df['BAD'] == 1]['dINC_A']) # bad risks\n",
        "\n",
        "# The `levene()` function returns the test statistic and its p-value. If you need \n",
        "# to refresh you memory on p-values, you can check out this post:\n",
        "# https://towardsdatascience.com/p-values-explained-by-data-scientist-f40a746cfc8A \n",
        "\n",
        "# In our case, Levene test does not reject the null hypothesis that variances are equal.\n",
        "# This means that we can perform a standard two-sided t-test."
      ],
      "execution_count": null,
      "outputs": [
        {
          "output_type": "execute_result",
          "data": {
            "text/plain": [
              "LeveneResult(statistic=0.034214288195485554, pvalue=0.8532824134210151)"
            ]
          },
          "metadata": {
            "tags": []
          },
          "execution_count": 14
        }
      ]
    },
    {
      "cell_type": "code",
      "metadata": {
        "colab": {
          "base_uri": "https://localhost:8080/"
        },
        "id": "SYzgN6qA3lB8",
        "outputId": "88f88b3f-0f65-42c9-a9e5-562356679b07"
      },
      "source": [
        "# Let's now perform the t-test\n",
        "stats.ttest_ind(df.loc[df['BAD'] == 0]['dINC_A'], \n",
        "                df.loc[df['BAD'] == 1]['dINC_A'], \n",
        "                equal_var  = True)               \n",
        "\n",
        "# A very small p-value of the t-test suggests that we can reject the null hypothesis \n",
        "# at a reasonable level of signicance. This result indicates that the difference \n",
        "# in incomes between GOOD and BAD applicants is indeed statistically significant."
      ],
      "execution_count": null,
      "outputs": [
        {
          "output_type": "execute_result",
          "data": {
            "text/plain": [
              "Ttest_indResult(statistic=6.6040866243773175, pvalue=5.950120052144809e-11)"
            ]
          },
          "metadata": {
            "tags": []
          },
          "execution_count": 15
        }
      ]
    },
    {
      "cell_type": "markdown",
      "metadata": {
        "id": "xUODqLIeZbTX"
      },
      "source": [
        "### 3.4 Categorical variables\n",
        "The data set comprises three categorical features. The feature PHON is binary and will not cause any issues. The features EMPS_A and RES are more interesting. Remember to check the data dictionary to understand what information the features encode. \n",
        "\n",
        "In the lecture, we explained that categorical features are typically encoded using dummy variables prior to applying an analytical model. Python supports dummy coding in several ways.  Pandas offers a function `get_dummies()` and sklearn offer a class `OneHotEncoder()`. The Pandas approach is maybe a bit easier to use. The more prevalent approach in practice is to rely on sklearn. \n",
        "\n",
        "Check the documentation of one or both of the above functions. Then create dummy variables for the feature RES and add them to your DataFrame.   "
      ]
    },
    {
      "cell_type": "code",
      "metadata": {
        "id": "coLet-zEZbTX",
        "colab": {
          "base_uri": "https://localhost:8080/",
          "height": 221
        },
        "outputId": "21ca6b2f-0683-4302-d94f-24805bf3145f"
      },
      "source": [
        "# Option 1: dummy coding of RES using `get_dummies()`\n",
        "# Documentation: https://pandas.pydata.org/pandas-docs/stable/reference/api/pandas.get_dummies.html\n",
        "\n",
        "df_with_dummies = pd.get_dummies(df, columns = ['RES'])\n",
        "print(df_with_dummies.shape)\n",
        "df_with_dummies.head()"
      ],
      "execution_count": null,
      "outputs": [
        {
          "output_type": "stream",
          "text": [
            "(1225, 19)\n"
          ],
          "name": "stdout"
        },
        {
          "output_type": "execute_result",
          "data": {
            "text/html": [
              "<div>\n",
              "<style scoped>\n",
              "    .dataframe tbody tr th:only-of-type {\n",
              "        vertical-align: middle;\n",
              "    }\n",
              "\n",
              "    .dataframe tbody tr th {\n",
              "        vertical-align: top;\n",
              "    }\n",
              "\n",
              "    .dataframe thead th {\n",
              "        text-align: right;\n",
              "    }\n",
              "</style>\n",
              "<table border=\"1\" class=\"dataframe\">\n",
              "  <thead>\n",
              "    <tr style=\"text-align: right;\">\n",
              "      <th></th>\n",
              "      <th>YOB</th>\n",
              "      <th>nKIDS</th>\n",
              "      <th>nDEP</th>\n",
              "      <th>PHON</th>\n",
              "      <th>dINC_SP</th>\n",
              "      <th>EMPS_A</th>\n",
              "      <th>dINC_A</th>\n",
              "      <th>dHVAL</th>\n",
              "      <th>dMBO</th>\n",
              "      <th>dOUTM</th>\n",
              "      <th>dOUTL</th>\n",
              "      <th>dOUTHP</th>\n",
              "      <th>dOUTCC</th>\n",
              "      <th>BAD</th>\n",
              "      <th>RES_F</th>\n",
              "      <th>RES_N</th>\n",
              "      <th>RES_O</th>\n",
              "      <th>RES_P</th>\n",
              "      <th>RES_U</th>\n",
              "    </tr>\n",
              "  </thead>\n",
              "  <tbody>\n",
              "    <tr>\n",
              "      <th>0</th>\n",
              "      <td>19.0</td>\n",
              "      <td>4.0</td>\n",
              "      <td>0.0</td>\n",
              "      <td>1.0</td>\n",
              "      <td>0.0</td>\n",
              "      <td>R</td>\n",
              "      <td>0.0</td>\n",
              "      <td>14464.0</td>\n",
              "      <td>4.0</td>\n",
              "      <td>0.0</td>\n",
              "      <td>0.0</td>\n",
              "      <td>0.0</td>\n",
              "      <td>0.0</td>\n",
              "      <td>0.0</td>\n",
              "      <td>0</td>\n",
              "      <td>0</td>\n",
              "      <td>1</td>\n",
              "      <td>0</td>\n",
              "      <td>0</td>\n",
              "    </tr>\n",
              "    <tr>\n",
              "      <th>1</th>\n",
              "      <td>41.0</td>\n",
              "      <td>2.0</td>\n",
              "      <td>0.0</td>\n",
              "      <td>1.0</td>\n",
              "      <td>0.0</td>\n",
              "      <td>P</td>\n",
              "      <td>36000.0</td>\n",
              "      <td>0.0</td>\n",
              "      <td>0.0</td>\n",
              "      <td>280.0</td>\n",
              "      <td>664.0</td>\n",
              "      <td>0.0</td>\n",
              "      <td>80.0</td>\n",
              "      <td>0.0</td>\n",
              "      <td>0</td>\n",
              "      <td>0</td>\n",
              "      <td>1</td>\n",
              "      <td>0</td>\n",
              "      <td>0</td>\n",
              "    </tr>\n",
              "    <tr>\n",
              "      <th>2</th>\n",
              "      <td>66.0</td>\n",
              "      <td>0.0</td>\n",
              "      <td>0.0</td>\n",
              "      <td>1.0</td>\n",
              "      <td>0.0</td>\n",
              "      <td>N</td>\n",
              "      <td>30000.0</td>\n",
              "      <td>0.0</td>\n",
              "      <td>0.0</td>\n",
              "      <td>0.0</td>\n",
              "      <td>0.0</td>\n",
              "      <td>0.0</td>\n",
              "      <td>0.0</td>\n",
              "      <td>0.0</td>\n",
              "      <td>0</td>\n",
              "      <td>1</td>\n",
              "      <td>0</td>\n",
              "      <td>0</td>\n",
              "      <td>0</td>\n",
              "    </tr>\n",
              "    <tr>\n",
              "      <th>3</th>\n",
              "      <td>51.0</td>\n",
              "      <td>2.0</td>\n",
              "      <td>0.0</td>\n",
              "      <td>1.0</td>\n",
              "      <td>0.0</td>\n",
              "      <td>P</td>\n",
              "      <td>464.0</td>\n",
              "      <td>24928.0</td>\n",
              "      <td>8464.0</td>\n",
              "      <td>584.0</td>\n",
              "      <td>320.0</td>\n",
              "      <td>0.0</td>\n",
              "      <td>60.0</td>\n",
              "      <td>0.0</td>\n",
              "      <td>0</td>\n",
              "      <td>0</td>\n",
              "      <td>1</td>\n",
              "      <td>0</td>\n",
              "      <td>0</td>\n",
              "    </tr>\n",
              "    <tr>\n",
              "      <th>4</th>\n",
              "      <td>65.0</td>\n",
              "      <td>0.0</td>\n",
              "      <td>0.0</td>\n",
              "      <td>1.0</td>\n",
              "      <td>0.0</td>\n",
              "      <td>P</td>\n",
              "      <td>15000.0</td>\n",
              "      <td>0.0</td>\n",
              "      <td>0.0</td>\n",
              "      <td>0.0</td>\n",
              "      <td>0.0</td>\n",
              "      <td>0.0</td>\n",
              "      <td>0.0</td>\n",
              "      <td>0.0</td>\n",
              "      <td>0</td>\n",
              "      <td>0</td>\n",
              "      <td>0</td>\n",
              "      <td>1</td>\n",
              "      <td>0</td>\n",
              "    </tr>\n",
              "  </tbody>\n",
              "</table>\n",
              "</div>"
            ],
            "text/plain": [
              "    YOB  nKIDS  nDEP  PHON  dINC_SP  ... RES_F  RES_N  RES_O  RES_P  RES_U\n",
              "0  19.0    4.0   0.0   1.0      0.0  ...     0      0      1      0      0\n",
              "1  41.0    2.0   0.0   1.0      0.0  ...     0      0      1      0      0\n",
              "2  66.0    0.0   0.0   1.0      0.0  ...     0      1      0      0      0\n",
              "3  51.0    2.0   0.0   1.0      0.0  ...     0      0      1      0      0\n",
              "4  65.0    0.0   0.0   1.0      0.0  ...     0      0      0      1      0\n",
              "\n",
              "[5 rows x 19 columns]"
            ]
          },
          "metadata": {
            "tags": []
          },
          "execution_count": 16
        }
      ]
    },
    {
      "cell_type": "code",
      "metadata": {
        "colab": {
          "base_uri": "https://localhost:8080/",
          "height": 221
        },
        "id": "3sMMaj5JSLxb",
        "outputId": "d0cf4714-b367-446f-960c-ff5c5d2d5863"
      },
      "source": [
        "# Option 2: dummy coding of RES using `OneHotEncoder()`\n",
        "# Documentation: https://scikit-learn.org/stable/modules/generated/sklearn.preprocessing.OneHotEncoder.html\n",
        "\n",
        "# Applying sklearn encoders involves several steps:\n",
        "# - initializing the encoder and specifying its properties\n",
        "# - fitting the encoder to the data\n",
        "# - transforming the data using the encoder\n",
        "# - [if applied to specific columns] merging the result to the original data\n",
        "\n",
        "# Initializing\n",
        "from sklearn.preprocessing import OneHotEncoder\n",
        "enc = OneHotEncoder(handle_unknown = 'ignore', # treatment of unknown categories\n",
        "                    sparse         = False)    # whether to return numpy array or sparse matrix\n",
        "\n",
        "# Fitting encoder to a specific column. If we supply the whole dataframe, the \n",
        "# encoder will fit and then transform all columns. We only want to change one.\n",
        "enc.fit(df[['RES']])\n",
        "\n",
        "# Transforming the data / column\n",
        "df_transformed = enc.transform(df[['RES']])\n",
        "\n",
        "# Merging dummies to the data with `join()`. Note that the output of the sklearn \n",
        "# encoders is a numpy array or a sparce matrix. If necessary, you would need to \n",
        "# convert the array back to pandas dataframe. This is what we do below.\n",
        "df_transformed = pd.DataFrame(df_transformed, \n",
        "                              columns = enc.get_feature_names()) # dummy names\n",
        "df_with_dummies_2 = df.join(df_transformed)\n",
        "\n",
        "# Deleting original variable\n",
        "del df_with_dummies_2['RES']\n",
        "print(df_with_dummies_2.shape)\n",
        "df_with_dummies_2.head()\n",
        "\n",
        "# As you can see, pandas `get_dummies()` approach is much simpler. However, learning\n",
        "# the logic behind sklearn processors is very useful as there are many different \n",
        "# processors that can be applied to a data set using the same pipeline. "
      ],
      "execution_count": null,
      "outputs": [
        {
          "output_type": "stream",
          "text": [
            "(1225, 19)\n"
          ],
          "name": "stdout"
        },
        {
          "output_type": "execute_result",
          "data": {
            "text/html": [
              "<div>\n",
              "<style scoped>\n",
              "    .dataframe tbody tr th:only-of-type {\n",
              "        vertical-align: middle;\n",
              "    }\n",
              "\n",
              "    .dataframe tbody tr th {\n",
              "        vertical-align: top;\n",
              "    }\n",
              "\n",
              "    .dataframe thead th {\n",
              "        text-align: right;\n",
              "    }\n",
              "</style>\n",
              "<table border=\"1\" class=\"dataframe\">\n",
              "  <thead>\n",
              "    <tr style=\"text-align: right;\">\n",
              "      <th></th>\n",
              "      <th>YOB</th>\n",
              "      <th>nKIDS</th>\n",
              "      <th>nDEP</th>\n",
              "      <th>PHON</th>\n",
              "      <th>dINC_SP</th>\n",
              "      <th>EMPS_A</th>\n",
              "      <th>dINC_A</th>\n",
              "      <th>dHVAL</th>\n",
              "      <th>dMBO</th>\n",
              "      <th>dOUTM</th>\n",
              "      <th>dOUTL</th>\n",
              "      <th>dOUTHP</th>\n",
              "      <th>dOUTCC</th>\n",
              "      <th>BAD</th>\n",
              "      <th>x0_F</th>\n",
              "      <th>x0_N</th>\n",
              "      <th>x0_O</th>\n",
              "      <th>x0_P</th>\n",
              "      <th>x0_U</th>\n",
              "    </tr>\n",
              "  </thead>\n",
              "  <tbody>\n",
              "    <tr>\n",
              "      <th>0</th>\n",
              "      <td>19.0</td>\n",
              "      <td>4.0</td>\n",
              "      <td>0.0</td>\n",
              "      <td>1.0</td>\n",
              "      <td>0.0</td>\n",
              "      <td>R</td>\n",
              "      <td>0.0</td>\n",
              "      <td>14464.0</td>\n",
              "      <td>4.0</td>\n",
              "      <td>0.0</td>\n",
              "      <td>0.0</td>\n",
              "      <td>0.0</td>\n",
              "      <td>0.0</td>\n",
              "      <td>0.0</td>\n",
              "      <td>0.0</td>\n",
              "      <td>0.0</td>\n",
              "      <td>1.0</td>\n",
              "      <td>0.0</td>\n",
              "      <td>0.0</td>\n",
              "    </tr>\n",
              "    <tr>\n",
              "      <th>1</th>\n",
              "      <td>41.0</td>\n",
              "      <td>2.0</td>\n",
              "      <td>0.0</td>\n",
              "      <td>1.0</td>\n",
              "      <td>0.0</td>\n",
              "      <td>P</td>\n",
              "      <td>36000.0</td>\n",
              "      <td>0.0</td>\n",
              "      <td>0.0</td>\n",
              "      <td>280.0</td>\n",
              "      <td>664.0</td>\n",
              "      <td>0.0</td>\n",
              "      <td>80.0</td>\n",
              "      <td>0.0</td>\n",
              "      <td>0.0</td>\n",
              "      <td>0.0</td>\n",
              "      <td>1.0</td>\n",
              "      <td>0.0</td>\n",
              "      <td>0.0</td>\n",
              "    </tr>\n",
              "    <tr>\n",
              "      <th>2</th>\n",
              "      <td>66.0</td>\n",
              "      <td>0.0</td>\n",
              "      <td>0.0</td>\n",
              "      <td>1.0</td>\n",
              "      <td>0.0</td>\n",
              "      <td>N</td>\n",
              "      <td>30000.0</td>\n",
              "      <td>0.0</td>\n",
              "      <td>0.0</td>\n",
              "      <td>0.0</td>\n",
              "      <td>0.0</td>\n",
              "      <td>0.0</td>\n",
              "      <td>0.0</td>\n",
              "      <td>0.0</td>\n",
              "      <td>0.0</td>\n",
              "      <td>1.0</td>\n",
              "      <td>0.0</td>\n",
              "      <td>0.0</td>\n",
              "      <td>0.0</td>\n",
              "    </tr>\n",
              "    <tr>\n",
              "      <th>3</th>\n",
              "      <td>51.0</td>\n",
              "      <td>2.0</td>\n",
              "      <td>0.0</td>\n",
              "      <td>1.0</td>\n",
              "      <td>0.0</td>\n",
              "      <td>P</td>\n",
              "      <td>464.0</td>\n",
              "      <td>24928.0</td>\n",
              "      <td>8464.0</td>\n",
              "      <td>584.0</td>\n",
              "      <td>320.0</td>\n",
              "      <td>0.0</td>\n",
              "      <td>60.0</td>\n",
              "      <td>0.0</td>\n",
              "      <td>0.0</td>\n",
              "      <td>0.0</td>\n",
              "      <td>1.0</td>\n",
              "      <td>0.0</td>\n",
              "      <td>0.0</td>\n",
              "    </tr>\n",
              "    <tr>\n",
              "      <th>4</th>\n",
              "      <td>65.0</td>\n",
              "      <td>0.0</td>\n",
              "      <td>0.0</td>\n",
              "      <td>1.0</td>\n",
              "      <td>0.0</td>\n",
              "      <td>P</td>\n",
              "      <td>15000.0</td>\n",
              "      <td>0.0</td>\n",
              "      <td>0.0</td>\n",
              "      <td>0.0</td>\n",
              "      <td>0.0</td>\n",
              "      <td>0.0</td>\n",
              "      <td>0.0</td>\n",
              "      <td>0.0</td>\n",
              "      <td>0.0</td>\n",
              "      <td>0.0</td>\n",
              "      <td>0.0</td>\n",
              "      <td>1.0</td>\n",
              "      <td>0.0</td>\n",
              "    </tr>\n",
              "  </tbody>\n",
              "</table>\n",
              "</div>"
            ],
            "text/plain": [
              "    YOB  nKIDS  nDEP  PHON  dINC_SP EMPS_A  ...  BAD  x0_F  x0_N  x0_O  x0_P  x0_U\n",
              "0  19.0    4.0   0.0   1.0      0.0      R  ...  0.0   0.0   0.0   1.0   0.0   0.0\n",
              "1  41.0    2.0   0.0   1.0      0.0      P  ...  0.0   0.0   0.0   1.0   0.0   0.0\n",
              "2  66.0    0.0   0.0   1.0      0.0      N  ...  0.0   0.0   1.0   0.0   0.0   0.0\n",
              "3  51.0    2.0   0.0   1.0      0.0      P  ...  0.0   0.0   0.0   1.0   0.0   0.0\n",
              "4  65.0    0.0   0.0   1.0      0.0      P  ...  0.0   0.0   0.0   0.0   1.0   0.0\n",
              "\n",
              "[5 rows x 19 columns]"
            ]
          },
          "metadata": {
            "tags": []
          },
          "execution_count": 17
        }
      ]
    },
    {
      "cell_type": "markdown",
      "metadata": {
        "id": "Mpw-Plv6ZbTX"
      },
      "source": [
        "The feature EMPS_A has more distinct levels. Considering the previous task, it is obvious that dummy coding the feature will increase dimensionality substantially. To avoid this, it makes sense to **regroup** the category levels prior to dummy coding. \n",
        "\n",
        "In the lecture on data preparation, we argued that a pivot table helps to identify category levels that we can merge. Specifically, we were recommending merging category levels for which the odds-ratio (i.e., the ratio of goods to bads) is similar. Write code to calculate the odds ratio for each level of the feature EMPS_A"
      ]
    },
    {
      "cell_type": "code",
      "metadata": {
        "id": "BakLWSopZbTX",
        "colab": {
          "base_uri": "https://localhost:8080/",
          "height": 421
        },
        "outputId": "8d9bffd2-f56e-4488-f419-822576aaa54c"
      },
      "source": [
        "### Calculation of the odds-ratio for EMPS_A\n",
        "\n",
        "# Creating cross-tab of EMPS_A and BAD\n",
        "res = pd.crosstab(df['EMPS_A'], df['BAD'])\n",
        "\n",
        "# Computing odds ratio\n",
        "res['odds_ratio'] = res[0] / res[1]\n",
        "\n",
        "# Displaying the output\n",
        "res"
      ],
      "execution_count": null,
      "outputs": [
        {
          "output_type": "execute_result",
          "data": {
            "text/html": [
              "<div>\n",
              "<style scoped>\n",
              "    .dataframe tbody tr th:only-of-type {\n",
              "        vertical-align: middle;\n",
              "    }\n",
              "\n",
              "    .dataframe tbody tr th {\n",
              "        vertical-align: top;\n",
              "    }\n",
              "\n",
              "    .dataframe thead th {\n",
              "        text-align: right;\n",
              "    }\n",
              "</style>\n",
              "<table border=\"1\" class=\"dataframe\">\n",
              "  <thead>\n",
              "    <tr style=\"text-align: right;\">\n",
              "      <th>BAD</th>\n",
              "      <th>0.0</th>\n",
              "      <th>1.0</th>\n",
              "      <th>odds_ratio</th>\n",
              "    </tr>\n",
              "    <tr>\n",
              "      <th>EMPS_A</th>\n",
              "      <th></th>\n",
              "      <th></th>\n",
              "      <th></th>\n",
              "    </tr>\n",
              "  </thead>\n",
              "  <tbody>\n",
              "    <tr>\n",
              "      <th>B</th>\n",
              "      <td>22</td>\n",
              "      <td>8</td>\n",
              "      <td>2.750000</td>\n",
              "    </tr>\n",
              "    <tr>\n",
              "      <th>E</th>\n",
              "      <td>88</td>\n",
              "      <td>36</td>\n",
              "      <td>2.444444</td>\n",
              "    </tr>\n",
              "    <tr>\n",
              "      <th>M</th>\n",
              "      <td>17</td>\n",
              "      <td>6</td>\n",
              "      <td>2.833333</td>\n",
              "    </tr>\n",
              "    <tr>\n",
              "      <th>N</th>\n",
              "      <td>5</td>\n",
              "      <td>1</td>\n",
              "      <td>5.000000</td>\n",
              "    </tr>\n",
              "    <tr>\n",
              "      <th>P</th>\n",
              "      <td>413</td>\n",
              "      <td>118</td>\n",
              "      <td>3.500000</td>\n",
              "    </tr>\n",
              "    <tr>\n",
              "      <th>R</th>\n",
              "      <td>55</td>\n",
              "      <td>49</td>\n",
              "      <td>1.122449</td>\n",
              "    </tr>\n",
              "    <tr>\n",
              "      <th>T</th>\n",
              "      <td>86</td>\n",
              "      <td>37</td>\n",
              "      <td>2.324324</td>\n",
              "    </tr>\n",
              "    <tr>\n",
              "      <th>U</th>\n",
              "      <td>4</td>\n",
              "      <td>4</td>\n",
              "      <td>1.000000</td>\n",
              "    </tr>\n",
              "    <tr>\n",
              "      <th>V</th>\n",
              "      <td>187</td>\n",
              "      <td>44</td>\n",
              "      <td>4.250000</td>\n",
              "    </tr>\n",
              "    <tr>\n",
              "      <th>W</th>\n",
              "      <td>21</td>\n",
              "      <td>16</td>\n",
              "      <td>1.312500</td>\n",
              "    </tr>\n",
              "    <tr>\n",
              "      <th>Z</th>\n",
              "      <td>4</td>\n",
              "      <td>4</td>\n",
              "      <td>1.000000</td>\n",
              "    </tr>\n",
              "  </tbody>\n",
              "</table>\n",
              "</div>"
            ],
            "text/plain": [
              "BAD     0.0  1.0  odds_ratio\n",
              "EMPS_A                      \n",
              "B        22    8    2.750000\n",
              "E        88   36    2.444444\n",
              "M        17    6    2.833333\n",
              "N         5    1    5.000000\n",
              "P       413  118    3.500000\n",
              "R        55   49    1.122449\n",
              "T        86   37    2.324324\n",
              "U         4    4    1.000000\n",
              "V       187   44    4.250000\n",
              "W        21   16    1.312500\n",
              "Z         4    4    1.000000"
            ]
          },
          "metadata": {
            "tags": []
          },
          "execution_count": 18
        }
      ]
    },
    {
      "cell_type": "code",
      "metadata": {
        "colab": {
          "base_uri": "https://localhost:8080/",
          "height": 421
        },
        "id": "7o1mgFkibZ3j",
        "outputId": "3c43b725-9a8a-41c2-98f4-7409ddfe18b4"
      },
      "source": [
        "# Let's sort the results by odds ratio:\n",
        "res = res.sort_values('odds_ratio')\n",
        "res\n",
        "\n",
        "# As you can see, some values of EMPS_A have the same odds ratio (U and Z). Some\n",
        "# other values also have a similar ratio (e.g., B and M)."
      ],
      "execution_count": null,
      "outputs": [
        {
          "output_type": "execute_result",
          "data": {
            "text/html": [
              "<div>\n",
              "<style scoped>\n",
              "    .dataframe tbody tr th:only-of-type {\n",
              "        vertical-align: middle;\n",
              "    }\n",
              "\n",
              "    .dataframe tbody tr th {\n",
              "        vertical-align: top;\n",
              "    }\n",
              "\n",
              "    .dataframe thead th {\n",
              "        text-align: right;\n",
              "    }\n",
              "</style>\n",
              "<table border=\"1\" class=\"dataframe\">\n",
              "  <thead>\n",
              "    <tr style=\"text-align: right;\">\n",
              "      <th>BAD</th>\n",
              "      <th>0.0</th>\n",
              "      <th>1.0</th>\n",
              "      <th>odds_ratio</th>\n",
              "    </tr>\n",
              "    <tr>\n",
              "      <th>EMPS_A</th>\n",
              "      <th></th>\n",
              "      <th></th>\n",
              "      <th></th>\n",
              "    </tr>\n",
              "  </thead>\n",
              "  <tbody>\n",
              "    <tr>\n",
              "      <th>U</th>\n",
              "      <td>4</td>\n",
              "      <td>4</td>\n",
              "      <td>1.000000</td>\n",
              "    </tr>\n",
              "    <tr>\n",
              "      <th>Z</th>\n",
              "      <td>4</td>\n",
              "      <td>4</td>\n",
              "      <td>1.000000</td>\n",
              "    </tr>\n",
              "    <tr>\n",
              "      <th>R</th>\n",
              "      <td>55</td>\n",
              "      <td>49</td>\n",
              "      <td>1.122449</td>\n",
              "    </tr>\n",
              "    <tr>\n",
              "      <th>W</th>\n",
              "      <td>21</td>\n",
              "      <td>16</td>\n",
              "      <td>1.312500</td>\n",
              "    </tr>\n",
              "    <tr>\n",
              "      <th>T</th>\n",
              "      <td>86</td>\n",
              "      <td>37</td>\n",
              "      <td>2.324324</td>\n",
              "    </tr>\n",
              "    <tr>\n",
              "      <th>E</th>\n",
              "      <td>88</td>\n",
              "      <td>36</td>\n",
              "      <td>2.444444</td>\n",
              "    </tr>\n",
              "    <tr>\n",
              "      <th>B</th>\n",
              "      <td>22</td>\n",
              "      <td>8</td>\n",
              "      <td>2.750000</td>\n",
              "    </tr>\n",
              "    <tr>\n",
              "      <th>M</th>\n",
              "      <td>17</td>\n",
              "      <td>6</td>\n",
              "      <td>2.833333</td>\n",
              "    </tr>\n",
              "    <tr>\n",
              "      <th>P</th>\n",
              "      <td>413</td>\n",
              "      <td>118</td>\n",
              "      <td>3.500000</td>\n",
              "    </tr>\n",
              "    <tr>\n",
              "      <th>V</th>\n",
              "      <td>187</td>\n",
              "      <td>44</td>\n",
              "      <td>4.250000</td>\n",
              "    </tr>\n",
              "    <tr>\n",
              "      <th>N</th>\n",
              "      <td>5</td>\n",
              "      <td>1</td>\n",
              "      <td>5.000000</td>\n",
              "    </tr>\n",
              "  </tbody>\n",
              "</table>\n",
              "</div>"
            ],
            "text/plain": [
              "BAD     0.0  1.0  odds_ratio\n",
              "EMPS_A                      \n",
              "U         4    4    1.000000\n",
              "Z         4    4    1.000000\n",
              "R        55   49    1.122449\n",
              "W        21   16    1.312500\n",
              "T        86   37    2.324324\n",
              "E        88   36    2.444444\n",
              "B        22    8    2.750000\n",
              "M        17    6    2.833333\n",
              "P       413  118    3.500000\n",
              "V       187   44    4.250000\n",
              "N         5    1    5.000000"
            ]
          },
          "metadata": {
            "tags": []
          },
          "execution_count": 19
        }
      ]
    },
    {
      "cell_type": "markdown",
      "metadata": {
        "id": "ecbHtEs1ZbTX"
      },
      "source": [
        "Now merge some category levels based on your solution to the previous task.  "
      ]
    },
    {
      "cell_type": "code",
      "metadata": {
        "id": "NWkDlvAUZbTX",
        "colab": {
          "base_uri": "https://localhost:8080/"
        },
        "outputId": "933ccfc7-ab62-4e92-a530-fd8619f1d088"
      },
      "source": [
        "# Based on the previous results, we can merge some levels of EMPS_A with each other\n",
        "# if they have a similar odds ratio. One solution could be to do the following encoding:\n",
        "# - level 1: ['U', 'Z', 'R', 'W']\n",
        "# - level 2: ['T', 'E', 'B', 'M']\n",
        "# - level 3: ['P', 'V']\n",
        "# - level 4: ['N']\n",
        "\n",
        "# How to do the merging? Let's start by setting up a renaming dictionary\n",
        "remap_dict = {\n",
        "    'U': 'U+Z+R+W',\n",
        "    'Z': 'U+Z+R+W',\n",
        "    'R': 'U+Z+R+W',\n",
        "    'W': 'U+Z+R+W',\n",
        "    'T': 'T+E+B+M',\n",
        "    'E': 'T+E+B+M',\n",
        "    'B': 'T+E+B+M',\n",
        "    'M': 'T+E+B+M',\n",
        "    'P': 'P+V',\n",
        "    'V': 'P+V',\n",
        "    'N': 'N'}\n",
        "\n",
        "# Now we can use `.map()` to merge category levels according to the dictionary\n",
        "df['EMPS_A_merged'] = df['EMPS_A'].map(remap_dict).astype('category')\n",
        "\n",
        "# Checking value counts\n",
        "df['EMPS_A_merged'].value_counts()"
      ],
      "execution_count": null,
      "outputs": [
        {
          "output_type": "execute_result",
          "data": {
            "text/plain": [
              "P+V        762\n",
              "T+E+B+M    300\n",
              "U+Z+R+W    157\n",
              "N            6\n",
              "Name: EMPS_A_merged, dtype: int64"
            ]
          },
          "metadata": {
            "tags": []
          },
          "execution_count": 20
        }
      ]
    },
    {
      "cell_type": "markdown",
      "metadata": {
        "id": "j8MCuM_NZbTX"
      },
      "source": [
        "The advantage of merging category levels is that we need less dummy variables for encoding the feature. On the other hand, by reducing category levels, we run the risk of losing information. It would make sense to check that our previous merging of category levels did not hurt, e.g., was not too aggressive. Why aggressive? Well, imagine you merge all category levels into one level. This would render the feature useless. So there is a trade-off between having few levels, to not increase dimensionality, and not having too few levels, to sustain the information in the feature for distinguishing good and bad applicants. To find a healthy balance between these conflicting objectives, we need a measure that tells us whether a grouping is informative. It turns out that a well-known statistical test, namely the $\\chi^2$ test, provides this functionality. \n",
        "- Run a quick web search to revisit the $\\chi^2$ test and understand how it is useful for judging a grouping of EMPS_A in our context.\n",
        "- Identify a way to calculate the $\\chi^2$ test statistic in Python\n",
        "- Calculate the test statistic for the original version of EMPS_A with 11 levels and the new version with less levels (i.e., solution to previous task)\n",
        "- Interpret the results and conclude whether your encoding of EMPS_A is suitable\n",
        "\n",
        "*HINT:* When merging categories, you should expect $\\chi^2$ test statistic to decrease unless the merged categories have exactly the same odds ratio. When deciding how many (and which) categories to merge, we should balance two conflicting objectives and try reducing the number of categories such that not too much information is lost. When fixing the number of categories, you can use the $\\chi^2$ test to compare competing encodings to select the one that preserves the most information. Play around with different ways to merge categories and try to select the one that achieves a good balance."
      ]
    },
    {
      "cell_type": "code",
      "metadata": {
        "id": "6VoIfL6gZbTX",
        "colab": {
          "base_uri": "https://localhost:8080/"
        },
        "outputId": "88465a42-f988-4434-dd63-5108421c9a87"
      },
      "source": [
        "# Chi^2 testing of categorical features can be performed with `chi2_contingency()`\n",
        "# from `scipy.stats`. The documentation is provided at:\n",
        "# https://docs.scipy.org/doc/scipy/reference/generated/scipy.stats.chi2_contingency.html\n",
        "\n",
        "# Importing packages\n",
        "from scipy.stats import chi2_contingency\n",
        "\n",
        "# Testing the original EMPS_A encoding\n",
        "# Note that `chi2_contingency()` return 4 values: test statistic, p-value, degrees \n",
        "# of freedom, expected frequencies. We only need the test statistic and can ignore\n",
        "# the rest. Using _ as a name of the variable to save the output of a function implies\n",
        "# that we ignore this output and do not store it in the memory.\n",
        "ct_orig = pd.crosstab(df['BAD'], df['EMPS_A'])\n",
        "stat_orig, _, _, _ = chi2_contingency(ct_orig)\n",
        "\n",
        "# Testing the modified EMPS_A encoding\n",
        "ct_merged = pd.crosstab(df['BAD'], df['EMPS_A_merged'])\n",
        "stat_merged, _, _, _ = chi2_contingency(ct_merged)\n",
        "\n",
        "# Comparing test results\n",
        "print('Chi-square statistic (original): {:.4f}'.format(stat_orig))\n",
        "print('Chi-square statistic (encoded):  {:.4f}'.format(stat_merged))\n",
        "\n",
        "# You can take the following read for more details on Chi^2 tests:\n",
        "# https://machinelearningmastery.com/chi-squared-test-for-machine-learning/"
      ],
      "execution_count": null,
      "outputs": [
        {
          "output_type": "stream",
          "text": [
            "Chi-square statistic (original): 45.7843\n",
            "Chi-square statistic (encoded):  44.3666\n"
          ],
          "name": "stdout"
        }
      ]
    },
    {
      "cell_type": "code",
      "metadata": {
        "id": "rB4k-atpdx-U"
      },
      "source": [
        "# Let's interpret the test results. We know that the maximum statistic value (in \n",
        "# our case, it is 45.7843) is always observed with the original encoding. We could \n",
        "# keep the same statistic value if we only merged U and Z, but that would only reduce \n",
        "# the number of categories from 11 to 10. Merging more categories decreases the \n",
        "# statistic but it matters which categories we merge to have a smaller reduction.\n",
        "# More specifically, it costs less to merge categories that have more similar odds ratio.\n",
        "\n",
        "# In our example, we are able to reduce the number of categories from 11 to 4 at a \n",
        "# very small reduction of the Chi^2 statistic from 45.7843 to 44.3666. This indicates \n",
        "# that our solution preserves most of the information despite the fact that we dropped\n",
        "# 7 categories. This appears to be a good balance between the cardinality and predictive power."
      ],
      "execution_count": null,
      "outputs": []
    },
    {
      "cell_type": "markdown",
      "metadata": {
        "id": "K0v5WATBZbTX"
      },
      "source": [
        "# Well done. You did great in solving all the exercises!"
      ]
    },
    {
      "cell_type": "markdown",
      "metadata": {
        "id": "8Z6Oqmf-ZbTX"
      },
      "source": [
        "**Optional**\n",
        "By solving the previous task, you created a rather powerful mechanism to regroup categorical variables and judge the predictive power of the encoding prior to applying dummy coding. Write a function that wraps-up this functionality. In particular, your function should:\n",
        "- receive a categorical variable as input\n",
        "- check that the variable is actually a category\n",
        "- determine the number of unique levels\n",
        "- iteratively reduce the number of levels by:\n",
        "  - calculating the odds-ratio of all current levels\n",
        "  - merging the two levels whose odds ratio is most similar\n",
        "  - calculating the $\\chi^2$ statistic for the current grouping and store its value\n",
        "- plot the elbow curve for the $\\chi^2$ statistic against the number of levels\n",
        "- display the optimal encoding for each number of levels\n",
        "\n",
        "*HINT:* recall the elbow curve showing relationship between the distance and the number of clusters that we plotted in [Tutorial 2](https://github.com/Humboldt-WI/bads/blob/master/tutorials/2_nb_descriptive_analytics.ipynb). Your function should output a similar graph.\n",
        "\n",
        "Finally, check your implementation by applying the function to EMPS_A and interpreting the results.\n",
        "\n",
        "Note that the described procedure mimics the logic behind the [CHAID tree](https://towardsdatascience.com/clearly-explained-top-2-types-of-decision-trees-chaid-cart-8695e441e73e), which is a tree-based supervised learning algorithm that finds feature splits based on the $\\chi^2$ statistic. When pruning the CHAID tree, feature splits with the lowest value of the $\\chi^2$ statistic are removed, which is similar to what we do when merging categories such that the drop in the $\\chi^2$ statistic value is as small as possible. In the next turorials, you will learn more about tree-based algorithms and implement a decision tree from scratch. Solving this exercise will help you to make a step towards a better understanding of the principles of these learning algorithms."
      ]
    },
    {
      "cell_type": "code",
      "metadata": {
        "id": "Jyw0-6wRZbTX"
      },
      "source": [
        "# We will define a function that \n",
        "def optimize_grouping(cat_feature, target_feature):\n",
        "  '''\n",
        "  Compares differenct encodings of a categorical variable using Chi^2 test.\n",
        "\n",
        "  Input:\n",
        "  - cat_feature: categorical feature to be encoded\n",
        "  - target_feature: target feature\n",
        "\n",
        "  Output:\n",
        "  - vector of Chi^2 statistic values\n",
        "  '''\n",
        "\n",
        "  # Copying features to avoid editing the original DataFrame\n",
        "  cat_feature    = cat_feature.copy()\n",
        "  target_feature = target_feature.copy()\n",
        "\n",
        "  # Checking if feature is categorical\n",
        "  if cat_feature.dtype != 'category':\n",
        "    print('Input feature is not categorical. Received feature of type:', cat_feature.dtype)\n",
        "    return\n",
        "\n",
        "  # Placeholders for Chi^2 values and categories\n",
        "  stats    = []\n",
        "  cats     = []\n",
        "  cats_num = []\n",
        "\n",
        "  # Storing number and values of categories\n",
        "  n_unique = cat_feature.nunique()\n",
        "  cats_num.append(n_unique)\n",
        "  cats.append(cat_feature.cat.categories)\n",
        "\n",
        "  # Performing chi2 test\n",
        "  ct = pd.crosstab(cat_feature, target_feature)\n",
        "  stat, _, _, _ = chi2_contingency(ct)\n",
        "  stats.append(stat)\n",
        "\n",
        "  # Iteratively trying different groupings\n",
        "  for i in range(n_unique - 1):\n",
        "\n",
        "    # Computing odds ratio\n",
        "    ct = pd.crosstab(cat_feature, target_feature)\n",
        "    ct['odds_ratio'] = ct[0] / ct[1]\n",
        "\n",
        "    # Finding min odds ratio difference\n",
        "    ct = ct.sort_values('odds_ratio')\n",
        "    ct['odds_ratio_diff'] = ct['odds_ratio'].diff()\n",
        "    min_idx = np.where(ct['odds_ratio_diff'] == ct['odds_ratio_diff'].min())[0][0]\n",
        "\n",
        "    # Storing levels to merge\n",
        "    levels_to_merge = ct.iloc[(min_idx - 1):(min_idx + 1)].index.values\n",
        "\n",
        "    # Merging two categories with add_categories()\n",
        "    cat_feature.cat.add_categories(['+'.join(levels_to_merge)], inplace = True)\n",
        "    for level in levels_to_merge:\n",
        "      cat_feature.loc[cat_feature == level] = '+'.join(levels_to_merge)\n",
        "      cat_feature.cat.remove_categories([level], inplace = True)\n",
        "\n",
        "    # Storing number and values of categories after encoding\n",
        "    cats_num.append(cat_feature.nunique())\n",
        "    cats.append(cat_feature.cat.categories)\n",
        "\n",
        "    # Performing chi2 test\n",
        "    ct = pd.crosstab(cat_feature, target_feature)\n",
        "    stat, _, _, _ = chi2_contingency(ct)\n",
        "    stats.append(stat)\n",
        "\n",
        "  # Plotting results\n",
        "  import matplotlib.pyplot as plt\n",
        "  plt.plot(cats_num, stats)\n",
        "  plt.title('Chi^2 Elbow Curve')\n",
        "  plt.ylabel('Chi^2 statistic')\n",
        "  plt.xlabel('Number of categories')\n",
        "  plt.show()\n",
        "\n",
        "  # Printing encodings\n",
        "  for i in range(len(cats)):\n",
        "    print('- {} categories: {}'.format(cats_num[i], cats[i].values))\n",
        "\n",
        "  # Returning Chi^2 values and encodings\n",
        "  return stats, cats"
      ],
      "execution_count": null,
      "outputs": []
    },
    {
      "cell_type": "code",
      "metadata": {
        "colab": {
          "base_uri": "https://localhost:8080/",
          "height": 482
        },
        "id": "z3KtwzJIlKP7",
        "outputId": "10c0acc5-b971-4b8e-9802-cfa244dccbd6"
      },
      "source": [
        "# Let's apply our function and inspect the output\n",
        "stats, cats = optimize_grouping(cat_feature    = df['EMPS_A'],\n",
        "                                target_feature = df['BAD'])\n",
        "\n",
        "# The output suggests that reducing the number of categories from 11 to 4 allows to\n",
        "# preserve most of the information. The suggested endcoing ['N' 'U+Z+R+W' 'T+E+B+M' 'P+V']\n",
        "# corresponds to our encoding selected in the previous task, which is good news :)\n",
        "# Further reducing the number of categories to 3 or 2 results in a rather sharp drop\n",
        "# in the Chi^2 test statistic, which suggests that stopping at 4 appears to be a \n",
        "# good solutiion. Well done!"
      ],
      "execution_count": null,
      "outputs": [
        {
          "output_type": "display_data",
          "data": {
            "image/png": "[encoded data removed]",
            "text/plain": [
              "<Figure size 432x288 with 1 Axes>"
            ]
          },
          "metadata": {
            "tags": [],
            "needs_background": "light"
          }
        },
        {
          "output_type": "stream",
          "text": [
            "- 11 categories: ['B' 'E' 'M' 'N' 'P' 'R' 'T' 'U' 'V' 'W' 'Z']\n",
            "- 10 categories: ['B' 'E' 'M' 'N' 'P' 'R' 'T' 'V' 'W' 'U+Z']\n",
            "- 9 categories: ['E' 'N' 'P' 'R' 'T' 'V' 'W' 'U+Z' 'B+M']\n",
            "- 8 categories: ['N' 'P' 'R' 'V' 'W' 'U+Z' 'B+M' 'T+E']\n",
            "- 7 categories: ['N' 'P' 'V' 'W' 'B+M' 'T+E' 'U+Z+R']\n",
            "- 6 categories: ['N' 'P' 'V' 'B+M' 'T+E' 'U+Z+R+W']\n",
            "- 5 categories: ['N' 'P' 'V' 'U+Z+R+W' 'T+E+B+M']\n",
            "- 4 categories: ['N' 'U+Z+R+W' 'T+E+B+M' 'P+V']\n",
            "- 3 categories: ['N' 'U+Z+R+W' 'T+E+B+M+P+V']\n",
            "- 2 categories: ['U+Z+R+W' 'T+E+B+M+P+V+N']\n",
            "- 1 categories: ['U+Z+R+W+T+E+B+M+P+V+N']\n"
          ],
          "name": "stdout"
        }
      ]
    }
  ]
}