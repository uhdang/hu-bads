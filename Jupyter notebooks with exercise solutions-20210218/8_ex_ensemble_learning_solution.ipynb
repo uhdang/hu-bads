{
  "nbformat": 4,
  "nbformat_minor": 0,
  "metadata": {
    "kernelspec": {
      "display_name": "PyCharm (VHB-ProDok-Internal)",
      "language": "python",
      "name": "pycharm-e3448bea"
    },
    "language_info": {
      "codemirror_mode": {
        "name": "ipython",
        "version": 3
      },
      "file_extension": ".py",
      "mimetype": "text/x-python",
      "name": "python",
      "nbconvert_exporter": "python",
      "pygments_lexer": "ipython3",
      "version": "3.7.6"
    },
    "colab": {
      "name": "8_ex_ensemble_learning_solution.ipynb",
      "provenance": [],
      "collapsed_sections": []
    }
  },
  "cells": [
    {
      "cell_type": "markdown",
      "metadata": {
        "id": "XstQcr6KZbTV"
      },
      "source": [
        "[![Open In Colab](https://colab.research.google.com/assets/colab-badge.svg)](https://colab.research.google.com/github/Humboldt-WI/bads/blob/master/exercises/8_ex_ensemble_learning.ipynb) "
      ]
    },
    {
      "cell_type": "markdown",
      "metadata": {
        "id": "nhjDMKBTZbTV"
      },
      "source": [
        "# BADS Exercise 8 on ensemble learning\n",
        "This exercise revisits some of the concepts covered in [Tutorial 8 on ensemble learning](https://github.com/Humboldt-WI/bads/blob/master/tutorials/8_nb_ensemble_learning.ipynb). We will take a close look at bagging and analyze its impact on the predictive accuracy, and implement one of the boosting algorithms, Adaboost.\n",
        "\n",
        "## Loading the data \n",
        "Fo this tutorial, we will use HMEQ credit risk data available at [our GitHub repo](https://github.com/Humboldt-WI/bads/blob/master/data/hmeq_prepared.csv). By now, you have imported different data sets multiple times in previous tutorials, but this step is always necessary when working with data. Your preliminary task is to load the HMEQ data set into a `pandas DataFrame`."
      ]
    },
    {
      "cell_type": "code",
      "metadata": {
        "id": "bgGuosuKZbTV",
        "colab": {
          "base_uri": "https://localhost:8080/",
          "height": 255
        },
        "outputId": "eefd5a4c-5eb6-4a6e-8054-48e016b7fd88"
      },
      "source": [
        "# Import libraries\n",
        "import pandas as pd\n",
        "import numpy as np\n",
        "\n",
        "# Load the data from GitHub\n",
        "data_url = 'https://raw.githubusercontent.com/Humboldt-WI/bads/master/data/hmeq_modeling.csv' \n",
        "df       = pd.read_csv(data_url, index_col = 'index')\n",
        "\n",
        "# encode target variable\n",
        "df['BAD'] = df['BAD'].astype(int) \n",
        "df.head()"
      ],
      "execution_count": 1,
      "outputs": [
        {
          "output_type": "execute_result",
          "data": {
            "text/html": [
              "<div>\n",
              "<style scoped>\n",
              "    .dataframe tbody tr th:only-of-type {\n",
              "        vertical-align: middle;\n",
              "    }\n",
              "\n",
              "    .dataframe tbody tr th {\n",
              "        vertical-align: top;\n",
              "    }\n",
              "\n",
              "    .dataframe thead th {\n",
              "        text-align: right;\n",
              "    }\n",
              "</style>\n",
              "<table border=\"1\" class=\"dataframe\">\n",
              "  <thead>\n",
              "    <tr style=\"text-align: right;\">\n",
              "      <th></th>\n",
              "      <th>BAD</th>\n",
              "      <th>LOAN</th>\n",
              "      <th>MORTDUE</th>\n",
              "      <th>VALUE</th>\n",
              "      <th>YOJ</th>\n",
              "      <th>CLAGE</th>\n",
              "      <th>NINQ</th>\n",
              "      <th>CLNO</th>\n",
              "      <th>DEBTINC</th>\n",
              "      <th>DEROGzero</th>\n",
              "      <th>REASON_HomeImp</th>\n",
              "      <th>REASON_IsMissing</th>\n",
              "      <th>JOB_Office</th>\n",
              "      <th>JOB_Other</th>\n",
              "      <th>JOB_ProfExe</th>\n",
              "      <th>JOB_Sales</th>\n",
              "      <th>JOB_Self</th>\n",
              "      <th>DELINQcat_1</th>\n",
              "      <th>DELINQcat_1+</th>\n",
              "    </tr>\n",
              "    <tr>\n",
              "      <th>index</th>\n",
              "      <th></th>\n",
              "      <th></th>\n",
              "      <th></th>\n",
              "      <th></th>\n",
              "      <th></th>\n",
              "      <th></th>\n",
              "      <th></th>\n",
              "      <th></th>\n",
              "      <th></th>\n",
              "      <th></th>\n",
              "      <th></th>\n",
              "      <th></th>\n",
              "      <th></th>\n",
              "      <th></th>\n",
              "      <th></th>\n",
              "      <th></th>\n",
              "      <th></th>\n",
              "      <th></th>\n",
              "      <th></th>\n",
              "    </tr>\n",
              "  </thead>\n",
              "  <tbody>\n",
              "    <tr>\n",
              "      <th>0</th>\n",
              "      <td>1</td>\n",
              "      <td>-1.832283</td>\n",
              "      <td>-1.295882</td>\n",
              "      <td>-1.335526</td>\n",
              "      <td>0.266788</td>\n",
              "      <td>-1.075278</td>\n",
              "      <td>-0.065054</td>\n",
              "      <td>-1.297476</td>\n",
              "      <td>0.137456</td>\n",
              "      <td>True</td>\n",
              "      <td>1</td>\n",
              "      <td>0</td>\n",
              "      <td>0</td>\n",
              "      <td>1</td>\n",
              "      <td>0</td>\n",
              "      <td>0</td>\n",
              "      <td>0</td>\n",
              "      <td>0</td>\n",
              "      <td>0</td>\n",
              "    </tr>\n",
              "    <tr>\n",
              "      <th>1</th>\n",
              "      <td>1</td>\n",
              "      <td>-1.810666</td>\n",
              "      <td>-0.013474</td>\n",
              "      <td>-0.672699</td>\n",
              "      <td>-0.236615</td>\n",
              "      <td>-0.723092</td>\n",
              "      <td>-0.826792</td>\n",
              "      <td>-0.756608</td>\n",
              "      <td>0.137456</td>\n",
              "      <td>True</td>\n",
              "      <td>1</td>\n",
              "      <td>0</td>\n",
              "      <td>0</td>\n",
              "      <td>1</td>\n",
              "      <td>0</td>\n",
              "      <td>0</td>\n",
              "      <td>0</td>\n",
              "      <td>0</td>\n",
              "      <td>1</td>\n",
              "    </tr>\n",
              "    <tr>\n",
              "      <th>2</th>\n",
              "      <td>1</td>\n",
              "      <td>-1.789048</td>\n",
              "      <td>-1.654549</td>\n",
              "      <td>-1.839275</td>\n",
              "      <td>-0.668103</td>\n",
              "      <td>-0.368769</td>\n",
              "      <td>-0.065054</td>\n",
              "      <td>-1.189302</td>\n",
              "      <td>0.137456</td>\n",
              "      <td>True</td>\n",
              "      <td>1</td>\n",
              "      <td>0</td>\n",
              "      <td>0</td>\n",
              "      <td>1</td>\n",
              "      <td>0</td>\n",
              "      <td>0</td>\n",
              "      <td>0</td>\n",
              "      <td>0</td>\n",
              "      <td>0</td>\n",
              "    </tr>\n",
              "    <tr>\n",
              "      <th>3</th>\n",
              "      <td>1</td>\n",
              "      <td>-1.789048</td>\n",
              "      <td>-0.159552</td>\n",
              "      <td>-0.202559</td>\n",
              "      <td>-0.236615</td>\n",
              "      <td>-0.061033</td>\n",
              "      <td>-0.065054</td>\n",
              "      <td>-0.107566</td>\n",
              "      <td>0.137456</td>\n",
              "      <td>True</td>\n",
              "      <td>0</td>\n",
              "      <td>1</td>\n",
              "      <td>0</td>\n",
              "      <td>1</td>\n",
              "      <td>0</td>\n",
              "      <td>0</td>\n",
              "      <td>0</td>\n",
              "      <td>0</td>\n",
              "      <td>0</td>\n",
              "    </tr>\n",
              "    <tr>\n",
              "      <th>4</th>\n",
              "      <td>0</td>\n",
              "      <td>-1.767431</td>\n",
              "      <td>0.791699</td>\n",
              "      <td>0.311107</td>\n",
              "      <td>-0.811933</td>\n",
              "      <td>-1.088528</td>\n",
              "      <td>-0.826792</td>\n",
              "      <td>-0.756608</td>\n",
              "      <td>0.137456</td>\n",
              "      <td>True</td>\n",
              "      <td>1</td>\n",
              "      <td>0</td>\n",
              "      <td>1</td>\n",
              "      <td>0</td>\n",
              "      <td>0</td>\n",
              "      <td>0</td>\n",
              "      <td>0</td>\n",
              "      <td>0</td>\n",
              "      <td>0</td>\n",
              "    </tr>\n",
              "  </tbody>\n",
              "</table>\n",
              "</div>"
            ],
            "text/plain": [
              "       BAD      LOAN   MORTDUE  ...  JOB_Self  DELINQcat_1  DELINQcat_1+\n",
              "index                           ...                                     \n",
              "0        1 -1.832283 -1.295882  ...         0            0             0\n",
              "1        1 -1.810666 -0.013474  ...         0            0             1\n",
              "2        1 -1.789048 -1.654549  ...         0            0             0\n",
              "3        1 -1.789048 -0.159552  ...         0            0             0\n",
              "4        0 -1.767431  0.791699  ...         0            0             0\n",
              "\n",
              "[5 rows x 19 columns]"
            ]
          },
          "metadata": {
            "tags": []
          },
          "execution_count": 1
        }
      ]
    },
    {
      "cell_type": "markdown",
      "metadata": {
        "id": "Bqw_wcW2ZbTW"
      },
      "source": [
        "Now we can proceed to the tasks on ensemble learning!"
      ]
    },
    {
      "cell_type": "markdown",
      "metadata": {
        "id": "VoW4Z3kIPnZk"
      },
      "source": [
        "## Tasks"
      ]
    },
    {
      "cell_type": "markdown",
      "metadata": {
        "id": "L3thD4BpPvqW"
      },
      "source": [
        "### Task 1\n",
        "\n",
        "Ensemble learning works by reducing bias and/or variance. We begin with examining the variance component. \n",
        "\n",
        "In the first task, you will write code that trains and tests a classifier multiple times on different subsets of HMEQ data and examines the classifier preformance. We prepared two versions of this task: *simple* and *for the experts*. Read the task description below and proceed with the version you feel ready to tackle!"
      ]
    },
    {
      "cell_type": "markdown",
      "metadata": {
        "id": "yT8GKYaYSp9y"
      },
      "source": [
        "*Simple version:* set up a loop to sample the data, calling the sklearn function `train_test_split()` multiple times in a loop. You can use either logistic regression or a decision tree as a classifier. Train and test a new classifier on the sampled data in each iteration of the loop and compute its AUC on the test set. Run your code for 100 iterations and visualize the variation in AUC performance by means of a boxplot. Briefly discuss your findings."
      ]
    },
    {
      "cell_type": "code",
      "metadata": {
        "id": "I86l0smaQSfm"
      },
      "source": [
        "# Import relevant libraries\n",
        "from sklearn.model_selection import train_test_split # data partitioning\n",
        "from sklearn.tree import DecisionTreeClassifier      # decision tree\n",
        "from sklearn.linear_model import LogisticRegression  # logistic regression\n",
        "from sklearn.metrics import roc_auc_score            # AUC metric\n",
        "\n",
        "# Placeholder for storing AUC values\n",
        "aucs = []\n",
        "\n",
        "# Extract target variable and feature matrix \n",
        "X = df.drop(['BAD'], axis = 1) \n",
        "y = df[['BAD']]\n",
        "\n",
        "# Parameters\n",
        "num_iters   = 100   # number of sampling iterations\n",
        "test_size   = 0.3   # size of test sample (percentage)\n",
        "random_seed = 2020  # random seed\n",
        "\n",
        "# Sampling loop\n",
        "for i in range(num_iters):\n",
        "\n",
        "    # Split data into training and test. Note that we set random seed to a different \n",
        "    # integer value in each repitition - otherwise we would get the same partitioning!\n",
        "    X_train, X_test, y_train, y_test = train_test_split(X, y, \n",
        "                                                        test_size    = test_size, \n",
        "                                                        random_state = random_seed + i)\n",
        "\n",
        "    # Fit model on training sample\n",
        "    model = DecisionTreeClassifier()  # we will use default parameters of DT\n",
        "    model.fit(X_train, y_train)\n",
        "\n",
        "    # Predict target on test sample (use probabilities)\n",
        "    y_pred = model.predict_proba(X_test)[:, 1]\n",
        "\n",
        "    # Compute and store AUC\n",
        "    auc = roc_auc_score(y_test, y_pred)\n",
        "    aucs.append(auc)"
      ],
      "execution_count": 2,
      "outputs": []
    },
    {
      "cell_type": "code",
      "metadata": {
        "colab": {
          "base_uri": "https://localhost:8080/",
          "height": 390
        },
        "id": "Mkt_QUdMW8XE",
        "outputId": "85d992d9-d72e-4f06-d322-aaf6893fc5bc"
      },
      "source": [
        "# Plotthe resulting AUC values\n",
        "import matplotlib.pyplot as plt\n",
        "fig = plt.figure(figsize = (5, 6))\n",
        "plt.boxplot(aucs)\n",
        "plt.title('AUC Distribution')\n",
        "plt.ylabel('AUC')\n",
        "plt.show()\n",
        "\n",
        "# The AUC values vary between 0.75 and 0.82, which is a wide range. Median AUC is \n",
        "# a little below 0.78. All this variance comes from random sampling of the training and \n",
        "# the test sample, which implies that changing a sample that we work with can have \n",
        "# a strong impact on the model and its performance. The same classifier can have a \n",
        "# very different AUC once the training data is sampled! This is important to keep in mind\n",
        "# and emphasizies why data partitioning is crucial."
      ],
      "execution_count": 3,
      "outputs": [
        {
          "output_type": "display_data",
          "data": {
            "image/png": "[encoded data removed]",
            "text/plain": [
              "<Figure size 360x432 with 1 Axes>"
            ]
          },
          "metadata": {
            "tags": [],
            "needs_background": "light"
          }
        }
      ]
    },
    {
      "cell_type": "markdown",
      "metadata": {
        "id": "q2GkdCKHQGa4"
      },
      "source": [
        "*For the experts:* perform the same task as above but wrap your code in a function `examine_variance()` that:\n",
        "- supports both logit and decision tree as a classifier\n",
        "- allows to specify the number of iterations and test sample size\n",
        "- facilitates controlled sampling of the data such that you randomize either the training or the test set or both sets in each iteration. The idea is that your code should let you study the isolated effect of randomizing only the training data while always predicting the same test data, or the isolated effect of applying the same model to multiple randomized test sets, or the overall effect of sampling the data just as in the simple version\n",
        "- returns a list of AUC values from each iteration\n",
        "\n",
        "Run your function for 100 iterations and visualize the AUC values using a boxplot. Briefly discuss differences between the AUC variance when randomizing the training data, the test data or both. \n",
        "\n",
        "*Hint:* you can rely on the function `bootstrapping()` from the ensemble learning tutorial to randomize the sampling."
      ]
    },
    {
      "cell_type": "code",
      "metadata": {
        "id": "MdO6A7TxbI_5"
      },
      "source": [
        "# Let's first define a helper function for randomly sampling data. We will reuse\n",
        "# the function `bootstrapping()` introduced in the tutorial and implement one \n",
        "# modification to it in order to allow a user specifying the random seed. This is \n",
        "# important thing to do throughout all tasks of this notebook to ensure that the\n",
        "# sampling varies from one iteration to another, and the results can be reproduced\n",
        "# when rerunning the code. We can then apply this function to randomize the data.\n",
        "\n",
        "def bootstrapping(X, y, n_bootstrap, seed = 1):\n",
        "  \n",
        "    '''\n",
        "    Takes a random set of observations of the size n_bootstrap.\n",
        "    Returns a sample X, y.\n",
        "    '''\n",
        "\n",
        "    # Set random seed\n",
        "    np.random.seed(seed)\n",
        "\n",
        "    # Extract bootstrap indices\n",
        "    bootstrap_indices = np.random.randint(low = 0, high = len(X), size = n_bootstrap) \n",
        "\n",
        "    # Split data\n",
        "    X_bootstrapped = X.iloc[bootstrap_indices]\n",
        "    y_bootstrapped = y.iloc[bootstrap_indices]\n",
        "    \n",
        "    # Output\n",
        "    return X_bootstrapped, y_bootstrapped"
      ],
      "execution_count": 4,
      "outputs": []
    },
    {
      "cell_type": "code",
      "metadata": {
        "id": "g101P7IuiLCM"
      },
      "source": [
        "# Before we proceed further, let's import another useful Python library - tqdm.\n",
        "# tqdm is useful for displaying visual feedback when running loops. Wrapping any  \n",
        "# loop in tqdm - e.g., changing `for i in range(n)` to `for i in tqdm(range(n))` -  \n",
        "# will automatically print a progress bar that updates while the loop is executing \n",
        "# in the cell and displays the elapsed time. You will see how we use it in the next cell.\n",
        "from tqdm import tqdm"
      ],
      "execution_count": 5,
      "outputs": []
    },
    {
      "cell_type": "code",
      "metadata": {
        "id": "BgoJ7gXMNbeE"
      },
      "source": [
        "# Now let's define a wrapper function for the task\n",
        "def examine_variance(X, y,                 # input data\n",
        "                     model,                # sklearn classifier\n",
        "                     iterations   = 100,   # number of iterations\n",
        "                     test_size    = 0.3,   # size of test sample\n",
        "                     random_train = True,  # whether to sample training data\n",
        "                     random_test  = True,  # whether to sample test data \n",
        "                     seed         = 1):    # random seed\n",
        "  \n",
        "\n",
        "    '''\n",
        "    Implements a custom classifier model on random train/test sample of the data.\n",
        "    Returns list with the AUC values.\n",
        "    '''\n",
        "\n",
        "    # Placeholder for AUC\n",
        "    aucs = []\n",
        "\n",
        "    # First, let's partition the data outside of the loop using `train_test_split()`\n",
        "    X_train, X_test, y_train, y_test = train_test_split(X, y, \n",
        "                                                        test_size    = test_size, \n",
        "                                                        random_state = seed)\n",
        "\n",
        "    # Modeling loop wrapped in tqdm for displaying the progress bar\n",
        "    for i in tqdm(range(iterations)):\n",
        "\n",
        "        # Randomize training data if needed\n",
        "        if random_train:\n",
        "            X_train_sample, y_train_sample = bootstrapping(X           = X_train, \n",
        "                                                           y           = y_train,\n",
        "                                                           n_bootstrap = len(X_train),\n",
        "                                                           seed        = seed + i)\n",
        "        else:\n",
        "            X_train_sample, y_train_sample = X_train.copy(), y_train.copy()\n",
        "\n",
        "        # Randomize test data if needed\n",
        "        if random_test:\n",
        "            X_test_sample, y_test_sample = bootstrapping(X           = X_test, \n",
        "                                                         y           = y_test,\n",
        "                                                         n_bootstrap = len(X_test),\n",
        "                                                         seed        = seed + i)\n",
        "        else:\n",
        "            X_test_sample, y_test_sample = X_test.copy(), y_test.copy()\n",
        "\n",
        "        # Fit model on training sample\n",
        "        model.fit(X_train_sample, y_train_sample)\n",
        "\n",
        "        # Predict target on test sample\n",
        "        y_pred = model.predict_proba(X_test_sample)[:, 1]\n",
        "\n",
        "        # Compute and store AUC\n",
        "        auc = roc_auc_score(y_test_sample, y_pred)\n",
        "        aucs.append(auc)\n",
        "\n",
        "    # Output AUC values\n",
        "    return aucs"
      ],
      "execution_count": 6,
      "outputs": []
    },
    {
      "cell_type": "code",
      "metadata": {
        "colab": {
          "base_uri": "https://localhost:8080/"
        },
        "id": "2Z8N1jcEaELX",
        "outputId": "577e5002-e7bb-48b4-a892-db5481f7df36"
      },
      "source": [
        "# Specify the base model (random_state make sure results can be reproduced)\n",
        "model = DecisionTreeClassifier(random_state = 2020, \n",
        "                               max_depth    = 5)\n",
        "\n",
        "# Run three variants of our function: with random train, test and both samples\n",
        "aucs_0 = examine_variance(X, y,    \n",
        "                          model        = model, \n",
        "                          iterations   = 100,  \n",
        "                          test_size    = 0.3,  \n",
        "                          random_train = True, \n",
        "                          random_test  = False, \n",
        "                          seed         = 777)\n",
        "\n",
        "aucs_1 = examine_variance(X, y,    \n",
        "                          model        = model, \n",
        "                          iterations   = 100,  \n",
        "                          test_size    = 0.3,  \n",
        "                          random_train = False, \n",
        "                          random_test  = True, \n",
        "                          seed         = 777)\n",
        "\n",
        "aucs_2 = examine_variance(X, y,    \n",
        "                          model        = model, \n",
        "                          iterations   = 100,  \n",
        "                          test_size    = 0.3,  \n",
        "                          random_train = True, \n",
        "                          random_test  = True, \n",
        "                          seed         = 777)"
      ],
      "execution_count": 7,
      "outputs": [
        {
          "output_type": "stream",
          "text": [
            "100%|██████████| 100/100 [00:02<00:00, 39.33it/s]\n",
            "100%|██████████| 100/100 [00:02<00:00, 37.71it/s]\n",
            "100%|██████████| 100/100 [00:02<00:00, 38.25it/s]\n"
          ],
          "name": "stderr"
        }
      ]
    },
    {
      "cell_type": "code",
      "metadata": {
        "colab": {
          "base_uri": "https://localhost:8080/",
          "height": 390
        },
        "id": "H7naQ4ESfo1F",
        "outputId": "b0b200be-c109-48d1-a2f2-ac8715308071"
      },
      "source": [
        "# Let's build boxplots and compare the results!\n",
        "\n",
        "fig = plt.figure(figsize = (12, 6))\n",
        "\n",
        "plt.boxplot([aucs_0, aucs_1, aucs_2])\n",
        "plt.title('AUC Distribution')\n",
        "plt.ylabel('AUC')\n",
        "plt.xticks(ticks  = [1, 2, 3], \n",
        "           labels = ['Random train', 'Random test', 'Random train and test'])\n",
        "plt.show()"
      ],
      "execution_count": 8,
      "outputs": [
        {
          "output_type": "display_data",
          "data": {
            "image/png": "[encoded data removed]",
            "text/plain": [
              "<Figure size 864x432 with 1 Axes>"
            ]
          },
          "metadata": {
            "tags": [],
            "needs_background": "light"
          }
        }
      ]
    },
    {
      "cell_type": "code",
      "metadata": {
        "id": "GZc9jaBvUcoS"
      },
      "source": [
        "# The results suggest that randomizing both training and test sample results in \n",
        "# the largest variance of the AUC values: the AUC fluctuates between about 0.81 \n",
        "# and 0.89. Randomizing only train or only test sample results in a lower \n",
        "# variance of the model performance. It is interesting to note that randmoizing \n",
        "# test sample has a stronger effect on the variance of AUC comapred to the training \n",
        "# data."
      ],
      "execution_count": 9,
      "outputs": []
    },
    {
      "cell_type": "markdown",
      "metadata": {
        "id": "WuacyFZIQTTb"
      },
      "source": [
        "### Task 2\n",
        "\n",
        "Implement a bagged logistic regression classifier from scratch. You can use the `sklearn` class `LogisticRegressionClassifier` for implementing the base model. The actual bagging step, however, should be implemented from scratch"
      ]
    },
    {
      "cell_type": "code",
      "metadata": {
        "id": "rC2PKhiBNZfp"
      },
      "source": [
        "# We will define a function `bagged_classifier()` that will use the previously \n",
        "# defined `bootstraping()` function to randomize training sample multiple times\n",
        "# and then train a model on each of the bootstrapped samples. Next, we will average\n",
        "# predictions from individual models to get predictions of the bagged classifier.\n",
        "\n",
        "def bagged_classifier(X_train,            # training data (features)\n",
        "                      y_train,            # training data (target)\n",
        "                      X_test,             # test data (features)\n",
        "                      model,              # sklearn model\n",
        "                      num_samples = 100,  # number of bootstrap samples\n",
        "                      seed        = 1):   # random seed\n",
        "\n",
        "    '''\n",
        "    Implements a bagged logistic regression classifier.\n",
        "    Returns classifier predictions.  \n",
        "    '''\n",
        "\n",
        "    # Predictions placeholder\n",
        "    y_pred = np.zeros((len(X_test), num_samples))\n",
        "\n",
        "    # Modeling loop\n",
        "    for i in range(num_samples):\n",
        "\n",
        "        # Subsample training data with a new random seed\n",
        "        X_train_sample, y_train_sample = bootstrapping(X           = X_train, \n",
        "                                                       y           = y_train, \n",
        "                                                       n_bootstrap = num_samples,\n",
        "                                                       seed        = seed + i)\n",
        "\n",
        "        # Fit model on training sample. Providing `np.ravel(y)` instead of `y` as \n",
        "        # a target helps to avoid a warning message of `LogisticRegression()` that \n",
        "        # expects to see the target variable in this format. The code will execute \n",
        "        # without `np.ravel()` with the same result but will display a warning that\n",
        "        # we would like to avoid.\n",
        "        model.fit(X_train_sample, np.ravel(y_train_sample))\n",
        "\n",
        "        # Predict target on test sample\n",
        "        y_pred[:, i] = model.predict_proba(X_test)[:, 1]\n",
        "\n",
        "    # Average predictions\n",
        "    y_pred = np.mean(y_pred, axis = 1)\n",
        "\n",
        "    # Output\n",
        "    return y_pred"
      ],
      "execution_count": 10,
      "outputs": []
    },
    {
      "cell_type": "code",
      "metadata": {
        "colab": {
          "base_uri": "https://localhost:8080/"
        },
        "id": "nLLxuKBRq72-",
        "outputId": "0b28824c-8851-4385-a05e-2747eec564e3"
      },
      "source": [
        "# Let's quickly test our function on the previously partitioned HMEQ data to make\n",
        "# sure where are no errors\n",
        "preds = bagged_classifier(X_train     = X_train,\n",
        "                          y_train     = y_train,\n",
        "                          X_test      = X_test,\n",
        "                          model       = LogisticRegression(),\n",
        "                          num_samples = 10)\n",
        "preds[0:3]"
      ],
      "execution_count": 11,
      "outputs": [
        {
          "output_type": "execute_result",
          "data": {
            "text/plain": [
              "array([0.1903342 , 0.2032741 , 0.10577439])"
            ]
          },
          "metadata": {
            "tags": []
          },
          "execution_count": 11
        }
      ]
    },
    {
      "cell_type": "markdown",
      "metadata": {
        "id": "S8B1ql4cQXYM"
      },
      "source": [
        "### Task 3\n",
        "\n",
        "Theory predicts that bagging should work better for unstable base models like trees than for stable base models like logistic regression. Use the custom bagging algorithm developed in Task 2 to verify this assertion for the HMEQ loan dataset. Specifically:\n",
        "  - chose a proper experimental design to compare models (split-sample or cross-validation)\n",
        "  - train two simple classifiers: \n",
        "    - logistic regression\n",
        "    - decision tree\n",
        "  - train two bagging classifiers:\n",
        "      - bagged logistic regression\n",
        "      - bagged decision tree\n",
        "  - both bagging classifiers should use your custom bagging function from Task 2\n",
        "  - compare the predictive performance of the bagging ensembles on the test data and briefly discuss your findings"
      ]
    },
    {
      "cell_type": "code",
      "metadata": {
        "id": "P3Vl67GuNZRn"
      },
      "source": [
        "# For simplicity, let's perform our experiment using a single split-sample partitioning. \n",
        "# First, we will create the new partitioning of the HMEQ data. Next, we will proceed\n",
        "# to implementing the classifiers.\n",
        "\n",
        "# Extract target variable and feature matrix \n",
        "X = df.drop(['BAD'], axis = 1) \n",
        "y = df[['BAD']]\n",
        "\n",
        "# Split sample parameters\n",
        "test_size   = 0.3  # size of test sample (percentage)\n",
        "random_seed = 815  # random seed\n",
        "\n",
        "# Split data into training and test\n",
        "X_train, X_test, y_train, y_test = train_test_split(X, y, \n",
        "                                                    test_size    = test_size, \n",
        "                                                    random_state = random_seed)"
      ],
      "execution_count": 12,
      "outputs": []
    },
    {
      "cell_type": "code",
      "metadata": {
        "colab": {
          "base_uri": "https://localhost:8080/"
        },
        "id": "4KEUnnTYsTDX",
        "outputId": "91ece08c-6b5d-415a-8338-39f1014a040b"
      },
      "source": [
        "# Let's create a dataframe for storing predictions from our classifiers\n",
        "preds = pd.DataFrame(columns = ['LR', 'DT', 'BagLR', 'BagDT'])\n",
        "\n",
        "# We will start with fitting single models, LR and DT, and storing their predictions\n",
        "# in the `preds` dataframe.\n",
        "model_lr = LogisticRegression(random_state     = random_seed)\n",
        "model_dt = DecisionTreeClassifier(random_state = random_seed)\n",
        "model_lr.fit(X_train, np.ravel(y_train))\n",
        "model_dt.fit(X_train, y_train)\n",
        "preds['LR'] = model_lr.predict_proba(X_test)[:, 1]\n",
        "preds['DT'] = model_dt.predict_proba(X_test)[:, 1]\n",
        "\n",
        "# Now let's implement a bagged logistic regression\n",
        "preds['BagLR'] = bagged_classifier(X_train     = X_train,\n",
        "                                   y_train     = y_train,\n",
        "                                   X_test      = X_test,\n",
        "                                   model       = model_lr,\n",
        "                                   num_samples = 100)\n",
        "\n",
        "# Finaly, we train a bagged decision tree\n",
        "preds['BagDT'] = bagged_classifier(X_train     = X_train,\n",
        "                                   y_train     = y_train,\n",
        "                                   X_test      = X_test,\n",
        "                                   model       = model_dt,\n",
        "                                   num_samples = 100)\n",
        "\n",
        "# Print performance values\n",
        "print('- single LR AUC = {:.4f}'.format(roc_auc_score(y_test, preds['LR'])))\n",
        "print('- bagged LR AUC = {:.4f}'.format(roc_auc_score(y_test, preds['DT'])))\n",
        "print('- single DT AUC = {:.4f}'.format(roc_auc_score(y_test, preds['BagLR'])))\n",
        "print('- bagged DT AUC = {:.4f}'.format(roc_auc_score(y_test, preds['BagDT'])))"
      ],
      "execution_count": 13,
      "outputs": [
        {
          "output_type": "stream",
          "text": [
            "- single LR AUC = 0.7653\n",
            "- bagged LR AUC = 0.7923\n",
            "- single DT AUC = 0.7568\n",
            "- bagged DT AUC = 0.8938\n"
          ],
          "name": "stdout"
        }
      ]
    },
    {
      "cell_type": "code",
      "metadata": {
        "id": "opK0xm8pnEVi"
      },
      "source": [
        "# The results look interesting! First, we see that DT performs better than LR - both\n",
        "# simple and bagged variants of the tree reach higher AUC compared to logit. This\n",
        "# is not a surpprise for us - we observed this ranking in the previous tutorials. Second,\n",
        "# the AUC of LR increases from 0.7653 to 0.7923 when adding bagging, which is a gain \n",
        "# of 0.0270. The DT has a much stronger benefit from bagging of 0.137! This goes in \n",
        "# line with our intuition that unstable models like DT may benefit from bagging stronger \n",
        "# compared to stable models like LR.\n",
        "\n",
        "# Note that this does not mean that our intuition is always right and DT will always benefit\n",
        "# from bagging more than LR. The result we observe is valid for the HMEQ dataset \n",
        "# but could be different for another dataset or even another partitioning of the HMEQ data \n",
        "# (recall that we only used a single split-sample in our experiment). In Task 4, \n",
        "# we will check the robustness of our observations by running the experiment on multiple data splits."
      ],
      "execution_count": 14,
      "outputs": []
    },
    {
      "cell_type": "markdown",
      "metadata": {
        "id": "hOXR9MN3QaxJ"
      },
      "source": [
        "### Task 4 [optional]\n",
        "\n",
        "#### 4.1. Further enhance the analysis from Task 3 as follows:\n",
        "  - repeat the comparison of bagged logit versus bagged trees multiple times with different training and testing data sets\n",
        "  - depict the results (predictive performance) as a boxplot"
      ]
    },
    {
      "cell_type": "code",
      "metadata": {
        "id": "ICis64azzaVj"
      },
      "source": [
        "# To complete this task, let's first wrap our experiment from Task 3 into a function \n",
        "# `compare_classifiers()` that we can then run on different data partitionings.\n",
        "\n",
        "def compare_classifiers(X, y,\n",
        "                        test_size   = 0.3,\n",
        "                        num_samples = 100,\n",
        "                        num_repeats = 10,  # number of data splits to repeat experiment\n",
        "                        seed        = 1):\n",
        "\n",
        "    '''\n",
        "    Fits bagged classifiers and tests their performance.\n",
        "    Returns a list with AUC values.\n",
        "    '''\n",
        "\n",
        "    # Dataframe for storing predictions from our classifiers\n",
        "    aucs = pd.DataFrame(columns = ['LR', 'DT', 'BagLR', 'BagDT'])\n",
        "\n",
        "    # Repeat with different splits\n",
        "    for i in range(num_repeats):\n",
        "\n",
        "        # Feedback\n",
        "        print('- processing partitioning {}...'.format(i + 1))\n",
        "\n",
        "        # Partition the data\n",
        "        X_train, X_test, y_train, y_test = train_test_split(X, y, \n",
        "                                                            test_size    = test_size, \n",
        "                                                            random_state = seed + i)\n",
        "\n",
        "        # Dataframe for storing predictions from our classifiers\n",
        "        preds = pd.DataFrame(columns = ['LR', 'DT', 'BagLR', 'BagDT'])\n",
        "\n",
        "        # Fit and predict with single models\n",
        "        model_lr = LogisticRegression(random_state     = seed)\n",
        "        model_dt = DecisionTreeClassifier(random_state = seed)\n",
        "        model_lr.fit(X_train, np.ravel(y_train))\n",
        "        model_dt.fit(X_train, y_train)\n",
        "        preds['LR'] = model_lr.predict_proba(X_test)[:, 1]\n",
        "        preds['DT'] = model_dt.predict_proba(X_test)[:, 1]\n",
        "\n",
        "        # Bagged logistic regression\n",
        "        preds['BagLR'] = bagged_classifier(X_train     = X_train,\n",
        "                                           y_train     = y_train,\n",
        "                                           X_test      = X_test,\n",
        "                                           model       = model_lr,\n",
        "                                           num_samples = num_samples)\n",
        "\n",
        "        # Bagged decision tree\n",
        "        preds['BagDT'] = bagged_classifier(X_train     = X_train,\n",
        "                                           y_train     = y_train,\n",
        "                                           X_test      = X_test,\n",
        "                                           model       = model_dt,\n",
        "                                           num_samples = num_samples)\n",
        "\n",
        "        # Save performance\n",
        "        aucs.loc[i, 'LR']    = roc_auc_score(y_test, preds['LR'])\n",
        "        aucs.loc[i, 'DT']    = roc_auc_score(y_test, preds['DT'])\n",
        "        aucs.loc[i, 'BagLR'] = roc_auc_score(y_test, preds['BagLR'])\n",
        "        aucs.loc[i, 'BagDT'] = roc_auc_score(y_test, preds['BagDT'])\n",
        "\n",
        "    # Output\n",
        "    return aucs"
      ],
      "execution_count": 15,
      "outputs": []
    },
    {
      "cell_type": "code",
      "metadata": {
        "colab": {
          "base_uri": "https://localhost:8080/",
          "height": 544
        },
        "id": "jzkOPMAq4be9",
        "outputId": "25894cfa-2990-4e47-aaaf-b6294f6db875"
      },
      "source": [
        "# Perform experiment [takes some time!]\n",
        "aucs = compare_classifiers(X, y, \n",
        "                           test_size   = 0.3,\n",
        "                           num_samples = 200,\n",
        "                           num_repeats = 10,\n",
        "                           seed        = 2020)\n",
        "\n",
        "# Visualize results\n",
        "fig = plt.figure(figsize = (12, 6))\n",
        "plt.boxplot(aucs.values)\n",
        "plt.ylabel('AUC')\n",
        "plt.xticks(ticks  = [1, 2, 3, 4], \n",
        "           labels = aucs.columns)\n",
        "plt.show()"
      ],
      "execution_count": 16,
      "outputs": [
        {
          "output_type": "stream",
          "text": [
            "- processing partitioning 1...\n",
            "- processing partitioning 2...\n",
            "- processing partitioning 3...\n",
            "- processing partitioning 4...\n",
            "- processing partitioning 5...\n",
            "- processing partitioning 6...\n",
            "- processing partitioning 7...\n",
            "- processing partitioning 8...\n",
            "- processing partitioning 9...\n",
            "- processing partitioning 10...\n"
          ],
          "name": "stdout"
        },
        {
          "output_type": "display_data",
          "data": {
            "image/png": "[encoded data removed]",
            "text/plain": [
              "<Figure size 864x432 with 1 Axes>"
            ]
          },
          "metadata": {
            "tags": [],
            "needs_background": "light"
          }
        }
      ]
    },
    {
      "cell_type": "code",
      "metadata": {
        "id": "I1sd1D6o5gkt"
      },
      "source": [
        "# The results obtained in Task 3 seem to be robust: the ranking of the classifiers \n",
        "# remains stable even after 10 repetitions with different train and test splits.\n",
        "\n",
        "# Overall, we still observe that the AUC gain from bagging is higher for the DT model.\n",
        "# We can also note that bagged version of the DT has a much lower variance of the AUC\n",
        "# compared to a single decision tree. This is to be expected because we grow a\n",
        "# tree with no limit on the `max_depth` parameter, which makes a single tree likely \n",
        "# to overfit the training sample. Bagging helps to fight overfitting by building such\n",
        "# trees on multiple different training sample, which leads to a classifier with lower\n",
        "# variance and better performance. This is a clear win!"
      ],
      "execution_count": 17,
      "outputs": []
    },
    {
      "cell_type": "markdown",
      "metadata": {
        "id": "X7LVHGBro09H"
      },
      "source": [
        "### 4.2. Investigate the impact of the ensemble size:\n",
        "- try out different settings for the hyperparameter *ensemble size* (number of bagging iterations)\n",
        "- produce a line plot of predictive performance versus ensemble size for bagged logit and bagged tree\n",
        "- identify the suitable ensemble size for both classifiers  "
      ]
    },
    {
      "cell_type": "code",
      "metadata": {
        "id": "vla-mENcoyAN"
      },
      "source": [
        "# A simple way to proceed with this task is to set up a loop where we can implement\n",
        "# our bagged classifier with different `num_samples`. However, this would be inefficient:\n",
        "# imagine that we need to iteratively train (1, 2, ..., n) base models on each step of\n",
        "# such a loop, which will result in training a total of 1 + 2 + ... + n base models. \n",
        "# What we can do instead is to train ONE bag classifier with n base models and extract \n",
        "# a matrix with individual base model predictions instead of a vector with the averaged \n",
        "# predictions. Then, we can simply aggregate predictions from a different number \n",
        "# of base models without the need to train a new bagged classifier every time. \n",
        "\n",
        "# Let's modify our bagging function to return a matrix with all predictions. We \n",
        "# introduce an argument `return_all_preds` for this purpose.\n",
        "\n",
        "def bagged_classifier(X_train,                   # training data (features)\n",
        "                      y_train,                   # training data (target)\n",
        "                      X_test,                    # test data (features)\n",
        "                      model,                     # sklearn model\n",
        "                      num_samples      = 100,    # number of bootstrap samples\n",
        "                      seed             = 1,      # random seed\n",
        "                      return_all_preds = False): # return matrix with individual predictions\n",
        "\n",
        "    '''\n",
        "    Implements a bagged logistic regression classifier.\n",
        "    Returns classifier predictions.  \n",
        "    '''\n",
        "\n",
        "    # Predictions placeholder\n",
        "    y_pred = np.zeros((len(X_test), num_samples))\n",
        "\n",
        "    # Modeling loop with tqdm for displaying the progress bar\n",
        "    for i in tqdm(range(num_samples)):\n",
        "\n",
        "        # Subsample training data with a new random seed\n",
        "        X_train_sample, y_train_sample = bootstrapping(X           = X_train, \n",
        "                                                       y           = y_train, \n",
        "                                                       n_bootstrap = num_samples,\n",
        "                                                       seed        = seed + i)\n",
        "\n",
        "        # Fit model on training sample\n",
        "        model.fit(X_train_sample, np.ravel(y_train_sample))\n",
        "\n",
        "        # Predict target on test sample\n",
        "        y_pred[:, i] = model.predict_proba(X_test)[:, 1]\n",
        "\n",
        "    # Average predictions\n",
        "    if not return_all_preds:\n",
        "        y_pred = np.mean(y_pred, axis = 1)\n",
        "\n",
        "    # Output\n",
        "    return y_pred"
      ],
      "execution_count": 18,
      "outputs": []
    },
    {
      "cell_type": "code",
      "metadata": {
        "id": "IbckMyKgNZBG",
        "colab": {
          "base_uri": "https://localhost:8080/"
        },
        "outputId": "89af3e21-6c6c-4c3a-b685-69d958206c60"
      },
      "source": [
        "# Now let's perform the experiment! First, we specify the max ensemble size\n",
        "ensemble_size = 500\n",
        "\n",
        "# Specify base models\n",
        "model_lr = LogisticRegression(random_state     = random_seed)\n",
        "model_dt = DecisionTreeClassifier(random_state = random_seed)\n",
        "\n",
        "# Bagged logistic regression\n",
        "preds_bag_lr = bagged_classifier(X_train          = X_train,\n",
        "                                 y_train          = y_train,\n",
        "                                 X_test           = X_test,\n",
        "                                 model            = model_lr,\n",
        "                                 num_samples      = ensemble_size,\n",
        "                                 return_all_preds = True)\n",
        "\n",
        "# Bagged decision tree\n",
        "preds_bag_dt = bagged_classifier(X_train          = X_train,\n",
        "                                 y_train          = y_train,\n",
        "                                 X_test           = X_test,\n",
        "                                 model            = model_dt,\n",
        "                                 num_samples      = ensemble_size,\n",
        "                                 return_all_preds = True)"
      ],
      "execution_count": 19,
      "outputs": [
        {
          "output_type": "stream",
          "text": [
            "100%|██████████| 500/500 [00:12<00:00, 39.22it/s]\n",
            "100%|██████████| 500/500 [00:03<00:00, 134.74it/s]\n"
          ],
          "name": "stderr"
        }
      ]
    },
    {
      "cell_type": "code",
      "metadata": {
        "id": "e-3tyiMV0RDm"
      },
      "source": [
        "# Now we can evaluate the performance. Let's first set up placeholders for AUC values\n",
        "aucs_lr = []\n",
        "aucs_dt = []\n",
        "\n",
        "# Loop through different ensemble sizes\n",
        "for n in range(1, ensemble_size + 1):\n",
        "\n",
        "    # Extract average predictions of the first n models\n",
        "    preds_lr = np.mean(preds_bag_lr[:, 0:n], axis = 1)\n",
        "    preds_dt = np.mean(preds_bag_dt[:, 0:n], axis = 1)\n",
        "\n",
        "    # Compute and store AUC values\n",
        "    aucs_lr.append(roc_auc_score(y_test, preds_lr))\n",
        "    aucs_dt.append(roc_auc_score(y_test, preds_dt))"
      ],
      "execution_count": 20,
      "outputs": []
    },
    {
      "cell_type": "code",
      "metadata": {
        "colab": {
          "base_uri": "https://localhost:8080/",
          "height": 392
        },
        "id": "I78Q1crEt53j",
        "outputId": "4cf787b5-a732-4b42-a69d-ead981efbaf4"
      },
      "source": [
        "# We will now create a Plot depicting the results. We will depict the curves with\n",
        "# the AUC dynamics and emphasize the points with the best performance\n",
        "plt.figure(figsize = (15, 6))\n",
        "plt.plot(range(1, ensemble_size + 1), aucs_lr, color = 'red',   label = 'Bagged LR')\n",
        "plt.plot(range(1, ensemble_size + 1), aucs_dt, color = 'green', label = 'Bagged DT') \n",
        "\n",
        "# find the best LR and DT AUC coordinates\n",
        "x_lr = np.argmax(np.array(aucs_lr)) + 1; y_lr = max(aucs_lr)\n",
        "x_dt = np.argmax(np.array(aucs_dt)) + 1; y_dt = max(aucs_dt)\n",
        "\n",
        "# display points with the best AUC for DT and LR\n",
        "plt.scatter(x_lr, y_lr, s = 50, color = 'red')    \n",
        "plt.scatter(x_dt, y_dt, s = 50, color = 'green') \n",
        "xdist = plt.xlim()[1] - plt.xlim()[0]; ydist = plt.ylim()[1] - plt.ylim()[0]\n",
        "plt.text(x_lr - 0.04*xdist, y_lr - 0.05*ydist, 'AUC = {:.4f}'.format(y_lr), size = 10)\n",
        "plt.text(x_dt - 0.04*xdist, y_dt - 0.05*ydist, 'AUC = {:.4f}'.format(y_dt), size = 10)\n",
        "\n",
        "# axis labels and legend\n",
        "plt.ylabel('Loss',          size = 14)\n",
        "plt.xlabel('Ensemble Size', size = 14)\n",
        "plt.legend(loc = 4, fontsize = 'large')\n",
        "plt.show()"
      ],
      "execution_count": 21,
      "outputs": [
        {
          "output_type": "display_data",
          "data": {
            "image/png": "[encoded data removed]",
            "text/plain": [
              "<Figure size 1080x432 with 1 Axes>"
            ]
          },
          "metadata": {
            "tags": [],
            "needs_background": "light"
          }
        }
      ]
    },
    {
      "cell_type": "code",
      "metadata": {
        "id": "KiV-EH3wzCBu"
      },
      "source": [
        "# The results suggest that both classifiers beneit a lot from bagging in the beginning\n",
        "# when the number of samples is still low. After the ensemble size reaches 20-30, \n",
        "# gains from adding each additional base model diminish abd become smaller. The \n",
        "# difference between the LR and the DT is again striking - the AUC of DT makes a \n",
        "# huge jump when training it on just a few samples instead of a single one. Bagged DT \n",
        "# reaches the best performance with the ensemble size of 95 and does not benefit \n",
        "# from the further increase of the number of models. On the other hand, bagged LR \n",
        "# continues to improve and reaches the highest AUC at 305 samples. It is also useful\n",
        "# to note that larger ensemble size does not lead to a visible deterioration of the\n",
        "# performance, so it might be better to \"overshoot\" and go for a larger ensemble \n",
        "# instead of settling on a too small number of samples."
      ],
      "execution_count": 22,
      "outputs": []
    },
    {
      "cell_type": "markdown",
      "metadata": {
        "id": "nanPbDybSGpO"
      },
      "source": [
        "### Task 5\n",
        "Write a custom Python function that implements the *Adaboost* algorithm. Follow the pseudo-code of the algorithm, as shown in the lecture materials. Design your function such that it accepts a `sklearn` model object as argument and than runs Adaboost using the corresponding base classifier. Test your function on the HMEQ data and evaluate performance in terms of AUC."
      ]
    },
    {
      "cell_type": "code",
      "metadata": {
        "id": "iJAgfdlBNYUa"
      },
      "source": [
        "# Since we would like our `adaboost()` function to accept a sklearn model as input,\n",
        "# it would be useful to import `deepcopy` function from `copy` library. This will\n",
        "# help us to create a new copy of a classifier object on each boosting iteration\n",
        "# to nake sure we can store classifiers from all iterations in memory to compute \n",
        "# predictions after the algorithm has finished. Note that we did not use this in \n",
        "# previous tasks when we were extracting predictions from each base classifier immediately\n",
        "# after training it without the need to store each classifier in memory. \n",
        "from copy import deepcopy\n",
        "\n",
        "# Let's define `adaboost()` function that implements the Adaboost classifier\n",
        "def adaboost(X_train,    # training data (features)\n",
        "             y_train,    # training data (target)\n",
        "             X_test,     # test data (features)\n",
        "             model,      # base model (sklearn object) \n",
        "             T    = 100, # number of boosting iterations\n",
        "             seed = 1):  # random seed\n",
        "  \n",
        "    '''\n",
        "    Implements Adaboost classifier.\n",
        "    Returns vector of predictions.\n",
        "    '''\n",
        "  \n",
        "    # First, we need to convert target values to {-1, 1} as required by the algorithm\n",
        "    y_train_enc = y_train['BAD'].map({1: 1, 0: -1})\n",
        "    y_train_enc = np.ravel(y_train_enc)\n",
        "\n",
        "    # Initialize equal sample weights\n",
        "    w = np.repeat(1 / len(X_train), len(X_train))\n",
        "\n",
        "    # Placeholder for classifiers and their weights\n",
        "    stumps        = []\n",
        "    stump_weights = []\n",
        "\n",
        "    # Repeat training and weights update for T iterations\n",
        "    for t in tqdm(range(T)):\n",
        "\n",
        "        # Fit classifier with sample weights\n",
        "        # We copy classifier in memory using `deepcopy()`\n",
        "        stump = deepcopy(model)\n",
        "        stump.fit(X             = X_train, \n",
        "                  y             = y_train_enc,\n",
        "                  sample_weight = w)\n",
        "        \n",
        "        # Predict target on the training sample\n",
        "        # Here, we predict classes and not probabilities\n",
        "        y_pred = stump.predict(X_train)\n",
        "\n",
        "        # Calculate classification error\n",
        "        ce = w[(y_pred != y_train_enc)].sum()\n",
        "\n",
        "        # Calculate classification weight\n",
        "        stump_weight = 0.5 * np.log((1 - ce) / ce)\n",
        "\n",
        "        # Update sample weights\n",
        "        w = w * np.exp(-stump_weight * y_train_enc * y_pred)\n",
        "        w = w / w.sum()\n",
        "\n",
        "        # Save classifiers\n",
        "        stumps.append(stump)\n",
        "        stump_weights.append(stump_weight)\n",
        "\n",
        "    # Output test predictions - again, we predict classes instead of probs\n",
        "    stump_preds = np.array([stump.predict(X_test) for stump in stumps])\n",
        "    preds       = np.sign(np.dot(stump_weights, stump_preds))\n",
        "    return preds"
      ],
      "execution_count": 47,
      "outputs": []
    },
    {
      "cell_type": "code",
      "metadata": {
        "colab": {
          "base_uri": "https://localhost:8080/"
        },
        "id": "Pb-HThDwEJ5H",
        "outputId": "c47c8621-d05a-4612-a27a-6151a95a830b"
      },
      "source": [
        "# Implement adaboost with DT. Note that we specify a (relatively) weak base model\n",
        "# as a decision tree with the maximum depth of 3. Using a complex model that fits the\n",
        "# training data perfectly would not work as the error of such model would be zero.\n",
        "# too weak learner can also result in a worse performance or require large ensemble \n",
        "# size to reach the same level of performance. You can experiment with different depth \n",
        "# to see how the AUC of Adaboost reacts to this hyperparameter.\n",
        "preds_adaboost = adaboost(X_train = X_train,\n",
        "                          y_train = y_train,\n",
        "                          X_test  = X_test,\n",
        "                          model   = DecisionTreeClassifier(max_depth = 3),\n",
        "                          T       = 500,\n",
        "                          seed    = 1)\n",
        "\n",
        "# Check performance\n",
        "print('')\n",
        "print('AUC = {:.4f}'.format(roc_auc_score(y_test, preds_adaboost)))"
      ],
      "execution_count": 49,
      "outputs": [
        {
          "output_type": "stream",
          "text": [
            "100%|██████████| 500/500 [00:09<00:00, 53.57it/s]\n"
          ],
          "name": "stderr"
        },
        {
          "output_type": "stream",
          "text": [
            "\n",
            "AUC = 0.8411\n"
          ],
          "name": "stdout"
        }
      ]
    },
    {
      "cell_type": "markdown",
      "metadata": {
        "id": "K0v5WATBZbTX"
      },
      "source": [
        "# Well done! Your ensembles performed great!"
      ]
    }
  ]
}